{
 "cells": [
  {
   "cell_type": "code",
   "execution_count": 11,
   "metadata": {
    "collapsed": true
   },
   "outputs": [],
   "source": [
    "import numpy as np\n",
    "import scipy"
   ]
  },
  {
   "cell_type": "code",
   "execution_count": 8,
   "metadata": {
    "collapsed": true
   },
   "outputs": [],
   "source": [
    "files = [ \n",
    "    '/users/mirandaviederman/Downloads/FITS Files/N_data/apStar-r8-2M16452941-0242588.fits',\n",
    "    '/users/mirandaviederman/Downloads/FITS Files/N_data/apStar-r8-2M16462176-0207594.fits',\n",
    "    '/users/mirandaviederman/Downloads/FITS Files/N_data/apStar-r8-2M16462642-0232208.fits',\n",
    "    '/users/mirandaviederman/Downloads/FITS Files/N_data/apStar-r8-2M16465982-0202241.fits',\n",
    "    '/users/mirandaviederman/Downloads/FITS Files/N_data/apStar-r8-2M16470110-0239298.fits',\n",
    "    #'/users/mirandaviederman/Downloads/FITS Files/N_data/apStar-r8-2M16470753-0157022.fits',\n",
    "    #'/users/mirandaviederman/Downloads/FITS Files/N_data/apStar-r8-2M16470791-0135506.fits',\n",
    "    #'/users/mirandaviederman/Downloads/FITS Files/N_data/apStar-r8-2M16471180-0232095.fits',\n",
    "    #'/users/mirandaviederman/Downloads/FITS Files/N_data/apStar-r8-2M16471184-0159574.fits',\n",
    "    #'/users/mirandaviederman/Downloads/FITS Files/N_data/apStar-r8-2M16471235-0153543.fits',\n",
    "    '/users/mirandaviederman/Downloads/FITS Files/S_data/apStar-t9-2M16452941-0242588.fits',\n",
    "    '/users/mirandaviederman/Downloads/FITS Files/S_data/apStar-t9-2M16462176-0207594.fits',\n",
    "    '/users/mirandaviederman/Downloads/FITS Files/S_data/apStar-t9-2M16462642-0232208.fits',\n",
    "    '/users/mirandaviederman/Downloads/FITS Files/S_data/apStar-t9-2M16465982-0202241.fits',\n",
    "    '/users/mirandaviederman/Downloads/FITS Files/S_data/apStar-t9-2M16470110-0239298.fits',\n",
    "]"
   ]
  },
  {
   "cell_type": "code",
   "execution_count": null,
   "metadata": {
    "collapsed": true
   },
   "outputs": [],
   "source": []
  }
 ],
 "metadata": {
  "kernelspec": {
   "display_name": "Python 3",
   "language": "python",
   "name": "python3"
  },
  "language_info": {
   "codemirror_mode": {
    "name": "ipython",
    "version": 3
   },
   "file_extension": ".py",
   "mimetype": "text/x-python",
   "name": "python",
   "nbconvert_exporter": "python",
   "pygments_lexer": "ipython3",
   "version": "3.6.3"
  }
 },
 "nbformat": 4,
 "nbformat_minor": 2
}
