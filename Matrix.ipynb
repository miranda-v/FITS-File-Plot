{
 "cells": [
  {
   "cell_type": "code",
   "execution_count": 37,
   "metadata": {
    "collapsed": true
   },
   "outputs": [],
   "source": [
    "import matplotlib.pyplot as plt\n",
    "%matplotlib inline"
   ]
  },
  {
   "cell_type": "code",
   "execution_count": 38,
   "metadata": {
    "collapsed": true
   },
   "outputs": [],
   "source": [
    "import numpy as np\n",
    "import scipy\n",
    "import astropy\n",
    "from astropy.io import fits\n",
    "import glob"
   ]
  },
  {
   "cell_type": "code",
   "execution_count": 39,
   "metadata": {},
   "outputs": [
    {
     "name": "stdout",
     "output_type": "stream",
     "text": [
      "/users/mirandaviederman/Downloads/FITS Files/Matrix/apStar-t9-2M16465982-0202241.fits\n",
      "/users/mirandaviederman/Downloads/FITS Files/Matrix/apStar-t9-2M16471235-0153543.fits\n",
      "/users/mirandaviederman/Downloads/FITS Files/Matrix/apStar-r8-2M16462176-0207594.fits\n",
      "/users/mirandaviederman/Downloads/FITS Files/Matrix/apStar-r8-2M16471235-0153543.fits\n",
      "/users/mirandaviederman/Downloads/FITS Files/Matrix/apStar-t9-2M16462176-0207594.fits\n",
      "/users/mirandaviederman/Downloads/FITS Files/Matrix/apStar-r8-2M16465982-0202241.fits\n",
      "/users/mirandaviederman/Downloads/FITS Files/Matrix/apStar-t9-2M16471180-0232095.fits\n",
      "/users/mirandaviederman/Downloads/FITS Files/Matrix/apStar-r8-2M16470753-0157022.fits\n",
      "/users/mirandaviederman/Downloads/FITS Files/Matrix/apStar-r8-2M16470791-0135506.fits\n",
      "/users/mirandaviederman/Downloads/FITS Files/Matrix/apStar-r8-2M16470110-0239298.fits\n",
      "/users/mirandaviederman/Downloads/FITS Files/Matrix/apStar-t9-2M16462642-0232208.fits\n",
      "/users/mirandaviederman/Downloads/FITS Files/Matrix/apStar-t9-2M16471184-0159574.fits\n",
      "/users/mirandaviederman/Downloads/FITS Files/Matrix/apStar-r8-2M16452941-0242588.fits\n",
      "/users/mirandaviederman/Downloads/FITS Files/Matrix/apStar-t9-2M16470110-0239298.fits\n",
      "/users/mirandaviederman/Downloads/FITS Files/Matrix/apStar-t9-2M16470791-0135506.fits\n",
      "/users/mirandaviederman/Downloads/FITS Files/Matrix/apStar-r8-2M16471184-0159574.fits\n",
      "/users/mirandaviederman/Downloads/FITS Files/Matrix/apStar-t9-2M16452941-0242588.fits\n",
      "/users/mirandaviederman/Downloads/FITS Files/Matrix/apStar-r8-2M16462642-0232208.fits\n",
      "/users/mirandaviederman/Downloads/FITS Files/Matrix/apStar-r8-2M16471180-0232095.fits\n",
      "/users/mirandaviederman/Downloads/FITS Files/Matrix/apStar-t9-2M16470753-0157022.fits\n"
     ]
    }
   ],
   "source": [
    "files = []\n",
    "\n",
    "for file in glob.glob('/users/mirandaviederman/Downloads/FITS Files/Matrix/apStar-*.fits'):\n",
    "    print(file)\n",
    "    files.append(fits.open(file))"
   ]
  },
  {
   "cell_type": "code",
   "execution_count": 40,
   "metadata": {},
   "outputs": [
    {
     "data": {
      "text/plain": [
       "20"
      ]
     },
     "execution_count": 40,
     "metadata": {},
     "output_type": "execute_result"
    }
   ],
   "source": [
    "len(files)"
   ]
  },
  {
   "cell_type": "code",
   "execution_count": 41,
   "metadata": {
    "collapsed": true
   },
   "outputs": [],
   "source": [
    "#dir(files[0])"
   ]
  },
  {
   "cell_type": "code",
   "execution_count": 42,
   "metadata": {},
   "outputs": [
    {
     "name": "stdout",
     "output_type": "stream",
     "text": [
      "1 20\n"
     ]
    }
   ],
   "source": [
    "print(1,len(files))"
   ]
  },
  {
   "cell_type": "code",
   "execution_count": 43,
   "metadata": {},
   "outputs": [
    {
     "name": "stdout",
     "output_type": "stream",
     "text": [
      "Filename: /users/mirandaviederman/Downloads/FITS Files/Matrix/apStar-t9-2M16465982-0202241.fits\n",
      "No.    Name      Ver    Type      Cards   Dimensions   Format\n",
      "  0  PRIMARY       1 PrimaryHDU     158   ()      \n",
      "  1                1 ImageHDU        13   (8575, 5)   float32   \n",
      "  2                1 ImageHDU        13   (8575, 5)   float32   \n",
      "  3                1 ImageHDU        13   (8575, 5)   int16   \n",
      "  4                1 ImageHDU        13   (8575, 5)   float32   \n",
      "  5                1 ImageHDU        13   (8575, 5)   float32   \n",
      "  6                1 ImageHDU        13   (8575, 5)   float32   \n",
      "  7                1 ImageHDU        13   (8575, 5)   float32   \n",
      "  8                1 ImageHDU        29   (26,)   float64   \n",
      "  9                1 BinTableHDU     90   1R x 33C   [90A, 3I, 36A, 3J, 3I, 3D, 3E, 3E, 3E, 3E, 2I, 2E, 2E, 2E, 2E, E, E, E, E, E, 3E, 3E, 3E, 3E, 3E, 3E, 3E, 2005E, 2005E, 401E, D, D, 401E]   \n"
     ]
    }
   ],
   "source": [
    "files[0].info()"
   ]
  },
  {
   "cell_type": "code",
   "execution_count": 44,
   "metadata": {
    "collapsed": true
   },
   "outputs": [],
   "source": [
    "info = files[0][1].data"
   ]
  },
  {
   "cell_type": "code",
   "execution_count": 45,
   "metadata": {},
   "outputs": [
    {
     "data": {
      "text/plain": [
       "(5, 8575)"
      ]
     },
     "execution_count": 45,
     "metadata": {},
     "output_type": "execute_result"
    }
   ],
   "source": [
    "info.shape"
   ]
  },
  {
   "cell_type": "code",
   "execution_count": 46,
   "metadata": {
    "collapsed": true
   },
   "outputs": [],
   "source": [
    "total_matrix = files[0][1].data\n",
    "\n",
    "for k in range(1,len(files)):\n",
    "    total_matrix = np.vstack((total_matrix,files[k][1].data))"
   ]
  },
  {
   "cell_type": "code",
   "execution_count": 47,
   "metadata": {},
   "outputs": [
    {
     "data": {
      "text/plain": [
       "(81, 8575)"
      ]
     },
     "execution_count": 47,
     "metadata": {},
     "output_type": "execute_result"
    }
   ],
   "source": [
    "total_matrix.shape"
   ]
  },
  {
   "cell_type": "code",
   "execution_count": 48,
   "metadata": {
    "collapsed": true
   },
   "outputs": [],
   "source": [
    "u,s,v = np.linalg.svd(total_matrix, full_matrices = False)"
   ]
  },
  {
   "cell_type": "code",
   "execution_count": 49,
   "metadata": {},
   "outputs": [
    {
     "data": {
      "text/plain": [
       "((81, 81), (81,), (81, 8575))"
      ]
     },
     "execution_count": 49,
     "metadata": {},
     "output_type": "execute_result"
    }
   ],
   "source": [
    "u.shape, s.shape, v.shape"
   ]
  },
  {
   "cell_type": "code",
   "execution_count": 50,
   "metadata": {},
   "outputs": [
    {
     "data": {
      "text/plain": [
       "array([ -1.19812209e-02,  -2.43520271e-02,  -4.61413409e-04,\n",
       "        -1.80826969e-02,   9.38926544e-03,  -1.60857048e-02,\n",
       "         2.07335874e-02,  -7.90849328e-03,   3.69825251e-02,\n",
       "        -4.56866473e-02,   2.32711202e-03,  -3.18534439e-04,\n",
       "         1.44901043e-02,  -1.50109567e-02,   4.38517369e-02,\n",
       "         8.63461848e-03,   2.28298511e-02,  -5.65391667e-02,\n",
       "         1.03939595e-02,  -1.86599586e-02,   1.31241018e-02,\n",
       "        -7.20220432e-03,   6.62177056e-02,  -3.78126418e-03,\n",
       "         1.77779701e-02,  -7.39559084e-02,   1.44247105e-02,\n",
       "        -1.85726248e-02,   4.12333310e-02,  -7.74062704e-03,\n",
       "        -3.82237397e-02,   1.33018959e-02,  -1.56736478e-01,\n",
       "         4.19642925e-02,  -3.61304656e-02,  -2.07072683e-03,\n",
       "        -4.79091108e-02,   2.00672895e-02,   3.11571769e-02,\n",
       "         3.10967006e-02,   9.34770796e-03,   5.77007374e-03,\n",
       "         4.96545769e-02,   2.41829008e-01,  -2.34131977e-01,\n",
       "        -2.38871202e-02,  -1.32254317e-01,   7.44979158e-02,\n",
       "         5.04376814e-02,   1.04282275e-01,   9.77130160e-02,\n",
       "         2.62865245e-01,  -2.67438114e-01,  -3.73599119e-02,\n",
       "        -3.78026366e-02,  -1.83881864e-01,  -1.03363797e-01,\n",
       "         3.98887172e-02,   5.13160489e-02,   1.93318829e-01,\n",
       "         1.83704600e-01,   3.33218187e-01,   9.24565569e-02,\n",
       "        -5.91161728e-01,  -6.98359087e-02,  -1.46268625e-02,\n",
       "        -9.86182988e-02,  -1.19008452e-01,  -4.24032696e-02,\n",
       "        -3.06653734e-02,   5.62984347e-02,   7.82188028e-02,\n",
       "         7.05525354e-02,   1.41601590e-02,   1.98635701e-02,\n",
       "         5.10689453e-04,   1.20814284e-03,   2.39626691e-03,\n",
       "         1.21705933e-03,   2.01525795e-03,   6.02993008e-04], dtype=float32)"
      ]
     },
     "execution_count": 50,
     "metadata": {},
     "output_type": "execute_result"
    }
   ],
   "source": [
    "u[0]"
   ]
  },
  {
   "cell_type": "code",
   "execution_count": 51,
   "metadata": {},
   "outputs": [
    {
     "data": {
      "text/plain": [
       "array([-0.01198003, -0.02363502, -0.00056557, -0.01808478,  0.01355717,\n",
       "       -0.0218466 ,  0.02004333, -0.01030545,  0.04164858, -0.05961462,\n",
       "        0.0096071 ,  0.00955861,  0.03201466, -0.02809969,  0.04034285,\n",
       "        0.01518832,  0.02797076, -0.05359123,  0.01543022, -0.01417542,\n",
       "        0.01842364, -0.01320327,  0.07798466,  0.00314299,  0.03531499,\n",
       "       -0.03131276,  0.00968965, -0.01351455,  0.0353543 ,  0.00802274,\n",
       "       -0.04875888,  0.00252122, -0.12459654,  0.06284586,  0.00466081,\n",
       "        0.0167742 , -0.02784975,  0.02071902, -0.01772398, -0.00232563,\n",
       "        0.10377033,  0.01523124,  0.01159056, -0.07716426,  0.13215283,\n",
       "        0.02678249, -0.05086962, -0.01098073, -0.01596842,  0.04407393,\n",
       "        0.12286763,  0.19135644, -0.20119311, -0.00823895, -0.06593734,\n",
       "       -0.15662101, -0.01763657,  0.01169556, -0.03223423, -0.04479931,\n",
       "       -0.10637462,  0.01557477, -0.08889989,  0.16649537, -0.02491343,\n",
       "        0.17790031, -0.08053398, -0.13581008, -0.37299576, -0.21378683,\n",
       "       -0.4509356 , -0.53062165, -0.09960834,  0.03534326, -0.01836504,\n",
       "        0.00322026, -0.00287863, -0.00154298, -0.00085095,  0.00076245,\n",
       "        0.00098144], dtype=float32)"
      ]
     },
     "execution_count": 51,
     "metadata": {},
     "output_type": "execute_result"
    }
   ],
   "source": [
    "u[1]"
   ]
  },
  {
   "cell_type": "code",
   "execution_count": 52,
   "metadata": {},
   "outputs": [
    {
     "data": {
      "text/plain": [
       "81"
      ]
     },
     "execution_count": 52,
     "metadata": {},
     "output_type": "execute_result"
    }
   ],
   "source": [
    "len(u[0])"
   ]
  },
  {
   "cell_type": "code",
   "execution_count": 53,
   "metadata": {
    "collapsed": true
   },
   "outputs": [],
   "source": [
    "#for file in files:\n",
    "    #crval1 = file[1].header['CRVAL1']\n",
    "    #cdelt1 = file[1].header['CDELT1']\n",
    "    #data = print(crval1*cdelt1)"
   ]
  },
  {
   "cell_type": "code",
   "execution_count": 54,
   "metadata": {
    "collapsed": true
   },
   "outputs": [],
   "source": [
    "#type(file[1].header['CDELT1'])"
   ]
  },
  {
   "cell_type": "code",
   "execution_count": 55,
   "metadata": {
    "collapsed": true,
    "scrolled": false
   },
   "outputs": [],
   "source": [
    "#files"
   ]
  },
  {
   "cell_type": "code",
   "execution_count": 56,
   "metadata": {},
   "outputs": [
    {
     "data": {
      "text/plain": [
       "array([[ -1.19812209e-02,  -2.43520271e-02,  -4.61413409e-04, ...,\n",
       "          1.21705933e-03,   2.01525795e-03,   6.02993008e-04],\n",
       "       [ -1.19800279e-02,  -2.36350242e-02,  -5.65569266e-04, ...,\n",
       "         -8.50946293e-04,   7.62449694e-04,   9.81441117e-04],\n",
       "       [ -1.19700488e-02,  -2.18097493e-02,  -9.75823321e-04, ...,\n",
       "          5.05882781e-04,  -4.50337189e-04,  -1.73995286e-04],\n",
       "       ..., \n",
       "       [ -9.14305728e-03,  -5.48170297e-04,  -1.17135318e-02, ...,\n",
       "         -6.91197871e-04,  -4.11653979e-04,  -3.56018900e-05],\n",
       "       [ -9.01954994e-03,  -1.18419691e-03,  -1.11217145e-02, ...,\n",
       "          5.77798288e-04,   5.62622794e-04,  -7.26580547e-05],\n",
       "       [ -4.03659403e-01,  -8.19767833e-01,   3.94124910e-02, ...,\n",
       "         -3.08623385e-05,  -6.96441566e-05,  -1.91049076e-05]], dtype=float32)"
      ]
     },
     "execution_count": 56,
     "metadata": {},
     "output_type": "execute_result"
    }
   ],
   "source": [
    "u"
   ]
  },
  {
   "cell_type": "code",
   "execution_count": 57,
   "metadata": {},
   "outputs": [
    {
     "data": {
      "text/plain": [
       "array([  1.32804288e+06,   1.20378125e+05,   3.97510586e+04,\n",
       "         2.49753789e+04,   1.46105273e+04,   1.33943369e+04,\n",
       "         1.09085703e+04,   1.04540361e+04,   9.12223926e+03,\n",
       "         7.99786914e+03,   7.55324268e+03,   6.57322852e+03,\n",
       "         6.33645020e+03,   5.67429199e+03,   4.97257324e+03,\n",
       "         4.45949756e+03,   4.29360254e+03,   4.07401636e+03,\n",
       "         3.69890820e+03,   3.51775024e+03,   3.43939380e+03,\n",
       "         3.18984863e+03,   2.93545996e+03,   2.63734619e+03,\n",
       "         2.61038159e+03,   2.43604175e+03,   2.38422461e+03,\n",
       "         2.35035156e+03,   2.19463232e+03,   2.11228491e+03,\n",
       "         2.02445129e+03,   1.77185925e+03,   1.60853223e+03,\n",
       "         1.48359460e+03,   1.37305884e+03,   1.33522205e+03,\n",
       "         1.28857397e+03,   1.25789270e+03,   1.24473315e+03,\n",
       "         1.20567737e+03,   1.16480554e+03,   1.12943542e+03,\n",
       "         1.10109497e+03,   1.07337036e+03,   1.04901794e+03,\n",
       "         9.87641052e+02,   9.10310669e+02,   8.71138977e+02,\n",
       "         8.49323669e+02,   8.41667664e+02,   8.23103088e+02,\n",
       "         7.69455017e+02,   7.57550354e+02,   7.05443848e+02,\n",
       "         6.94185730e+02,   6.70766602e+02,   5.88626648e+02,\n",
       "         5.75137451e+02,   5.61106628e+02,   5.26644165e+02,\n",
       "         5.20380859e+02,   5.07063538e+02,   4.79005585e+02,\n",
       "         4.53138550e+02,   4.40263428e+02,   4.19787140e+02,\n",
       "         3.96432465e+02,   3.77330688e+02,   3.60161987e+02,\n",
       "         3.54487030e+02,   2.86178772e+02,   2.75689148e+02,\n",
       "         2.44734344e+02,   2.37644531e+02,   2.22989792e+02,\n",
       "         5.45305405e+01,   3.97122765e+01,   3.00073833e+01,\n",
       "         2.88932724e+01,   2.66900597e+01,   1.75107746e+01], dtype=float32)"
      ]
     },
     "execution_count": 57,
     "metadata": {},
     "output_type": "execute_result"
    }
   ],
   "source": [
    "s"
   ]
  },
  {
   "cell_type": "code",
   "execution_count": 58,
   "metadata": {},
   "outputs": [
    {
     "data": {
      "text/plain": [
       "array([[  2.31785881e-16,   8.78695684e-18,   1.92429656e-17, ...,\n",
       "          0.00000000e+00,   0.00000000e+00,   0.00000000e+00],\n",
       "       [ -7.66577364e-16,  -8.17823082e-17,  -2.14338544e-17, ...,\n",
       "          0.00000000e+00,   0.00000000e+00,   0.00000000e+00],\n",
       "       [ -1.73791719e-16,  -7.17907407e-17,  -1.47650257e-16, ...,\n",
       "          0.00000000e+00,   0.00000000e+00,   0.00000000e+00],\n",
       "       ..., \n",
       "       [  7.87760021e-14,   4.77679275e-15,  -7.36950322e-16, ...,\n",
       "          0.00000000e+00,   0.00000000e+00,   0.00000000e+00],\n",
       "       [  1.79477391e-13,  -9.46880259e-15,   3.74058864e-14, ...,\n",
       "          0.00000000e+00,   0.00000000e+00,   0.00000000e+00],\n",
       "       [  6.49469573e-13,   8.26900245e-15,  -2.49684967e-14, ...,\n",
       "          0.00000000e+00,   0.00000000e+00,   0.00000000e+00]], dtype=float32)"
      ]
     },
     "execution_count": 58,
     "metadata": {},
     "output_type": "execute_result"
    }
   ],
   "source": [
    "v"
   ]
  },
  {
   "cell_type": "code",
   "execution_count": 59,
   "metadata": {},
   "outputs": [
    {
     "data": {
      "text/plain": [
       "(8575,)"
      ]
     },
     "execution_count": 59,
     "metadata": {},
     "output_type": "execute_result"
    }
   ],
   "source": [
    "v[0,:].shape"
   ]
  },
  {
   "cell_type": "code",
   "execution_count": 60,
   "metadata": {},
   "outputs": [
    {
     "data": {
      "text/plain": [
       "array([ -7.66577364e-16,  -8.17823082e-17,  -2.14338544e-17, ...,\n",
       "         0.00000000e+00,   0.00000000e+00,   0.00000000e+00], dtype=float32)"
      ]
     },
     "execution_count": 60,
     "metadata": {},
     "output_type": "execute_result"
    }
   ],
   "source": [
    "v[1,:]"
   ]
  },
  {
   "cell_type": "code",
   "execution_count": 61,
   "metadata": {},
   "outputs": [
    {
     "data": {
      "text/plain": [
       "array([ -1.73791719e-16,  -7.17907407e-17,  -1.47650257e-16, ...,\n",
       "         0.00000000e+00,   0.00000000e+00,   0.00000000e+00], dtype=float32)"
      ]
     },
     "execution_count": 61,
     "metadata": {},
     "output_type": "execute_result"
    }
   ],
   "source": [
    "v[2,:]"
   ]
  },
  {
   "cell_type": "code",
   "execution_count": 62,
   "metadata": {},
   "outputs": [
    {
     "data": {
      "text/plain": [
       "array([  1.96973531e-15,  -7.01419464e-18,   4.52940909e-17, ...,\n",
       "         0.00000000e+00,   0.00000000e+00,   0.00000000e+00], dtype=float32)"
      ]
     },
     "execution_count": 62,
     "metadata": {},
     "output_type": "execute_result"
    }
   ],
   "source": [
    "v[3,:]"
   ]
  },
  {
   "cell_type": "code",
   "execution_count": 63,
   "metadata": {},
   "outputs": [
    {
     "data": {
      "text/plain": [
       "((81, 81), (81,), (81, 8575))"
      ]
     },
     "execution_count": 63,
     "metadata": {},
     "output_type": "execute_result"
    }
   ],
   "source": [
    "u.shape, s.shape, v.shape"
   ]
  },
  {
   "cell_type": "code",
   "execution_count": 64,
   "metadata": {
    "collapsed": true
   },
   "outputs": [],
   "source": [
    "full_matrix = v"
   ]
  },
  {
   "cell_type": "code",
   "execution_count": 65,
   "metadata": {
    "collapsed": true
   },
   "outputs": [],
   "source": [
    "zm_full_matrix = full_matrix-np.mean(full_matrix, axis=0)"
   ]
  },
  {
   "cell_type": "code",
   "execution_count": 66,
   "metadata": {},
   "outputs": [
    {
     "data": {
      "text/plain": [
       "array([[ -3.08558687e-14,   1.40904418e-15,  -4.77000971e-15, ...,\n",
       "          0.00000000e+00,   0.00000000e+00,   0.00000000e+00],\n",
       "       [ -3.18542325e-14,   1.31847497e-15,  -4.81068635e-15, ...,\n",
       "          0.00000000e+00,   0.00000000e+00,   0.00000000e+00],\n",
       "       [ -3.12614450e-14,   1.32846657e-15,  -4.93690273e-15, ...,\n",
       "          0.00000000e+00,   0.00000000e+00,   0.00000000e+00],\n",
       "       ..., \n",
       "       [  4.76883480e-14,   6.17705002e-15,  -5.52620304e-15, ...,\n",
       "          0.00000000e+00,   0.00000000e+00,   0.00000000e+00],\n",
       "       [  1.48389737e-13,  -8.06854532e-15,   3.26166333e-14, ...,\n",
       "          0.00000000e+00,   0.00000000e+00,   0.00000000e+00],\n",
       "       [  6.18381919e-13,   9.66925972e-15,  -2.97577481e-14, ...,\n",
       "          0.00000000e+00,   0.00000000e+00,   0.00000000e+00]], dtype=float32)"
      ]
     },
     "execution_count": 66,
     "metadata": {},
     "output_type": "execute_result"
    }
   ],
   "source": [
    "zm_full_matrix"
   ]
  },
  {
   "cell_type": "code",
   "execution_count": 67,
   "metadata": {},
   "outputs": [
    {
     "data": {
      "text/plain": [
       "(81, 8575)"
      ]
     },
     "execution_count": 67,
     "metadata": {},
     "output_type": "execute_result"
    }
   ],
   "source": [
    "zm_full_matrix.shape"
   ]
  },
  {
   "cell_type": "code",
   "execution_count": 68,
   "metadata": {},
   "outputs": [
    {
     "data": {
      "text/plain": [
       "array([ -3.08558687e-14,   1.40904418e-15,  -4.77000971e-15, ...,\n",
       "         0.00000000e+00,   0.00000000e+00,   0.00000000e+00], dtype=float32)"
      ]
     },
     "execution_count": 68,
     "metadata": {},
     "output_type": "execute_result"
    }
   ],
   "source": [
    "zm_full_matrix[0]"
   ]
  },
  {
   "cell_type": "code",
   "execution_count": 69,
   "metadata": {},
   "outputs": [
    {
     "data": {
      "image/png": "[encoded data removed]",
      "text/plain": [
       "<matplotlib.figure.Figure at 0x10c51a940>"
      ]
     },
     "metadata": {},
     "output_type": "display_data"
    }
   ],
   "source": [
    "plt.plot(zm_full_matrix[0], linewidth=0.3);"
   ]
  },
  {
   "cell_type": "code",
   "execution_count": 71,
   "metadata": {},
   "outputs": [
    {
     "data": {
      "text/plain": [
       "array([ -3.18542325e-14,   1.31847497e-15,  -4.81068635e-15, ...,\n",
       "         0.00000000e+00,   0.00000000e+00,   0.00000000e+00], dtype=float32)"
      ]
     },
     "execution_count": 71,
     "metadata": {},
     "output_type": "execute_result"
    }
   ],
   "source": [
    "zm_full_matrix[1]"
   ]
  },
  {
   "cell_type": "code",
   "execution_count": 70,
   "metadata": {},
   "outputs": [
    {
     "data": {
      "image/png": "[encoded data removed]",
      "text/plain": [
       "<matplotlib.figure.Figure at 0x10c5215f8>"
      ]
     },
     "metadata": {},
     "output_type": "display_data"
    }
   ],
   "source": [
    "plt.plot(zm_full_matrix[1], linewidth=0.3);"
   ]
  },
  {
   "cell_type": "code",
   "execution_count": 72,
   "metadata": {},
   "outputs": [
    {
     "data": {
      "text/plain": [
       "array([ -3.12614450e-14,   1.32846657e-15,  -4.93690273e-15, ...,\n",
       "         0.00000000e+00,   0.00000000e+00,   0.00000000e+00], dtype=float32)"
      ]
     },
     "execution_count": 72,
     "metadata": {},
     "output_type": "execute_result"
    }
   ],
   "source": [
    "zm_full_matrix[2]"
   ]
  },
  {
   "cell_type": "code",
   "execution_count": 73,
   "metadata": {},
   "outputs": [
    {
     "data": {
      "image/png": "[encoded data removed]",
      "text/plain": [
       "<matplotlib.figure.Figure at 0x11b224cf8>"
      ]
     },
     "metadata": {},
     "output_type": "display_data"
    }
   ],
   "source": [
    "plt.plot(zm_full_matrix[2], linewidth=0.3);"
   ]
  },
  {
   "cell_type": "code",
   "execution_count": 74,
   "metadata": {},
   "outputs": [
    {
     "data": {
      "text/plain": [
       "array([ -2.91179197e-14,   1.39324310e-15,  -4.74395837e-15, ...,\n",
       "         0.00000000e+00,   0.00000000e+00,   0.00000000e+00], dtype=float32)"
      ]
     },
     "execution_count": 74,
     "metadata": {},
     "output_type": "execute_result"
    }
   ],
   "source": [
    "zm_full_matrix[3]"
   ]
  },
  {
   "cell_type": "code",
   "execution_count": 76,
   "metadata": {},
   "outputs": [
    {
     "data": {
      "image/png": "[encoded data removed]",
      "text/plain": [
       "<matplotlib.figure.Figure at 0x11c408518>"
      ]
     },
     "metadata": {},
     "output_type": "display_data"
    }
   ],
   "source": [
    "plt.plot(zm_full_matrix[3], linewidth=0.3);"
   ]
  },
  {
   "cell_type": "code",
   "execution_count": null,
   "metadata": {
    "collapsed": true
   },
   "outputs": [],
   "source": []
  }
 ],
 "metadata": {
  "kernelspec": {
   "display_name": "Python 3",
   "language": "python",
   "name": "python3"
  },
  "language_info": {
   "codemirror_mode": {
    "name": "ipython",
    "version": 3
   },
   "file_extension": ".py",
   "mimetype": "text/x-python",
   "name": "python",
   "nbconvert_exporter": "python",
   "pygments_lexer": "ipython3",
   "version": "3.6.3"
  }
 },
 "nbformat": 4,
 "nbformat_minor": 2
}
