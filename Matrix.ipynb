{
 "cells": [
  {
   "cell_type": "markdown",
   "metadata": {},
   "source": [
    "### Figure 18"
   ]
  },
  {
   "cell_type": "code",
   "execution_count": 2,
   "metadata": {
    "collapsed": true
   },
   "outputs": [],
   "source": [
    "import matplotlib.pyplot as plt\n",
    "%matplotlib notebook"
   ]
  },
  {
   "cell_type": "code",
   "execution_count": 3,
   "metadata": {
    "collapsed": true
   },
   "outputs": [],
   "source": [
    "import numpy as np\n",
    "import scipy\n",
    "import astropy\n",
    "from astropy.io import fits\n",
    "import glob"
   ]
  },
  {
   "cell_type": "code",
   "execution_count": 4,
   "metadata": {},
   "outputs": [
    {
     "name": "stdout",
     "output_type": "stream",
     "text": [
      "/users/mirandaviederman/Downloads/FITS Files/Matrix/apStar-t9-2M16465982-0202241.fits\n",
      "/users/mirandaviederman/Downloads/FITS Files/Matrix/apStar-t9-2M16471235-0153543.fits\n",
      "/users/mirandaviederman/Downloads/FITS Files/Matrix/apStar-r8-2M16462176-0207594.fits\n",
      "/users/mirandaviederman/Downloads/FITS Files/Matrix/apStar-r8-2M16471235-0153543.fits\n",
      "/users/mirandaviederman/Downloads/FITS Files/Matrix/apStar-t9-2M16462176-0207594.fits\n",
      "/users/mirandaviederman/Downloads/FITS Files/Matrix/apStar-r8-2M16465982-0202241.fits\n",
      "/users/mirandaviederman/Downloads/FITS Files/Matrix/apStar-t9-2M16471180-0232095.fits\n",
      "/users/mirandaviederman/Downloads/FITS Files/Matrix/apStar-r8-2M16470753-0157022.fits\n",
      "/users/mirandaviederman/Downloads/FITS Files/Matrix/apStar-r8-2M16470791-0135506.fits\n",
      "/users/mirandaviederman/Downloads/FITS Files/Matrix/apStar-r8-2M16470110-0239298.fits\n",
      "/users/mirandaviederman/Downloads/FITS Files/Matrix/apStar-t9-2M16462642-0232208.fits\n",
      "/users/mirandaviederman/Downloads/FITS Files/Matrix/apStar-t9-2M16471184-0159574.fits\n",
      "/users/mirandaviederman/Downloads/FITS Files/Matrix/apStar-r8-2M16452941-0242588.fits\n",
      "/users/mirandaviederman/Downloads/FITS Files/Matrix/apStar-t9-2M16470110-0239298.fits\n",
      "/users/mirandaviederman/Downloads/FITS Files/Matrix/apStar-t9-2M16470791-0135506.fits\n",
      "/users/mirandaviederman/Downloads/FITS Files/Matrix/apStar-r8-2M16471184-0159574.fits\n",
      "/users/mirandaviederman/Downloads/FITS Files/Matrix/apStar-t9-2M16452941-0242588.fits\n",
      "/users/mirandaviederman/Downloads/FITS Files/Matrix/apStar-r8-2M16462642-0232208.fits\n",
      "/users/mirandaviederman/Downloads/FITS Files/Matrix/apStar-r8-2M16471180-0232095.fits\n",
      "/users/mirandaviederman/Downloads/FITS Files/Matrix/apStar-t9-2M16470753-0157022.fits\n"
     ]
    }
   ],
   "source": [
    "files = []\n",
    "\n",
    "for file in glob.glob('/users/mirandaviederman/Downloads/FITS Files/Matrix/apStar-*.fits'):\n",
    "    print(file)\n",
    "    files.append(fits.open(file))"
   ]
  },
  {
   "cell_type": "code",
   "execution_count": 5,
   "metadata": {},
   "outputs": [
    {
     "data": {
      "text/plain": [
       "20"
      ]
     },
     "execution_count": 5,
     "metadata": {},
     "output_type": "execute_result"
    }
   ],
   "source": [
    "len(files)"
   ]
  },
  {
   "cell_type": "code",
   "execution_count": 6,
   "metadata": {
    "collapsed": true
   },
   "outputs": [],
   "source": [
    "#dir(files[0])"
   ]
  },
  {
   "cell_type": "code",
   "execution_count": 7,
   "metadata": {},
   "outputs": [
    {
     "name": "stdout",
     "output_type": "stream",
     "text": [
      "1 20\n"
     ]
    }
   ],
   "source": [
    "print(1,len(files))"
   ]
  },
  {
   "cell_type": "code",
   "execution_count": 8,
   "metadata": {},
   "outputs": [
    {
     "name": "stdout",
     "output_type": "stream",
     "text": [
      "Filename: /users/mirandaviederman/Downloads/FITS Files/Matrix/apStar-t9-2M16465982-0202241.fits\n",
      "No.    Name      Ver    Type      Cards   Dimensions   Format\n",
      "  0  PRIMARY       1 PrimaryHDU     158   ()      \n",
      "  1                1 ImageHDU        13   (8575, 5)   float32   \n",
      "  2                1 ImageHDU        13   (8575, 5)   float32   \n",
      "  3                1 ImageHDU        13   (8575, 5)   int16   \n",
      "  4                1 ImageHDU        13   (8575, 5)   float32   \n",
      "  5                1 ImageHDU        13   (8575, 5)   float32   \n",
      "  6                1 ImageHDU        13   (8575, 5)   float32   \n",
      "  7                1 ImageHDU        13   (8575, 5)   float32   \n",
      "  8                1 ImageHDU        29   (26,)   float64   \n",
      "  9                1 BinTableHDU     90   1R x 33C   [90A, 3I, 36A, 3J, 3I, 3D, 3E, 3E, 3E, 3E, 2I, 2E, 2E, 2E, 2E, E, E, E, E, E, 3E, 3E, 3E, 3E, 3E, 3E, 3E, 2005E, 2005E, 401E, D, D, 401E]   \n"
     ]
    }
   ],
   "source": [
    "files[0].info()"
   ]
  },
  {
   "cell_type": "code",
   "execution_count": 9,
   "metadata": {
    "collapsed": true
   },
   "outputs": [],
   "source": [
    "info = files[0][1].data"
   ]
  },
  {
   "cell_type": "code",
   "execution_count": 10,
   "metadata": {},
   "outputs": [
    {
     "data": {
      "text/plain": [
       "(5, 8575)"
      ]
     },
     "execution_count": 10,
     "metadata": {},
     "output_type": "execute_result"
    }
   ],
   "source": [
    "info.shape"
   ]
  },
  {
   "cell_type": "code",
   "execution_count": 11,
   "metadata": {
    "collapsed": true
   },
   "outputs": [],
   "source": [
    "total_matrix = files[0][1].data\n",
    "\n",
    "for k in range(1,len(files)):\n",
    "    total_matrix = np.vstack((total_matrix,files[k][1].data))"
   ]
  },
  {
   "cell_type": "code",
   "execution_count": 12,
   "metadata": {},
   "outputs": [
    {
     "data": {
      "text/plain": [
       "(81, 8575)"
      ]
     },
     "execution_count": 12,
     "metadata": {},
     "output_type": "execute_result"
    }
   ],
   "source": [
    "total_matrix.shape"
   ]
  },
  {
   "cell_type": "code",
   "execution_count": 13,
   "metadata": {
    "collapsed": true
   },
   "outputs": [],
   "source": [
    "u,s,v = np.linalg.svd(total_matrix, full_matrices = False)"
   ]
  },
  {
   "cell_type": "code",
   "execution_count": 14,
   "metadata": {},
   "outputs": [
    {
     "data": {
      "text/plain": [
       "((81, 81), (81,), (81, 8575))"
      ]
     },
     "execution_count": 14,
     "metadata": {},
     "output_type": "execute_result"
    }
   ],
   "source": [
    "u.shape, s.shape, v.shape"
   ]
  },
  {
   "cell_type": "code",
   "execution_count": 15,
   "metadata": {},
   "outputs": [
    {
     "data": {
      "text/plain": [
       "array([ -1.19812209e-02,  -2.43520271e-02,  -4.61413409e-04,\n",
       "        -1.80826969e-02,   9.38926544e-03,  -1.60857048e-02,\n",
       "         2.07335874e-02,  -7.90849328e-03,   3.69825251e-02,\n",
       "        -4.56866473e-02,   2.32711202e-03,  -3.18534439e-04,\n",
       "         1.44901043e-02,  -1.50109567e-02,   4.38517369e-02,\n",
       "         8.63461848e-03,   2.28298511e-02,  -5.65391667e-02,\n",
       "         1.03939595e-02,  -1.86599586e-02,   1.31241018e-02,\n",
       "        -7.20220432e-03,   6.62177056e-02,  -3.78126418e-03,\n",
       "         1.77779701e-02,  -7.39559084e-02,   1.44247105e-02,\n",
       "        -1.85726248e-02,   4.12333310e-02,  -7.74062704e-03,\n",
       "        -3.82237397e-02,   1.33018959e-02,  -1.56736478e-01,\n",
       "         4.19642925e-02,  -3.61304656e-02,  -2.07072683e-03,\n",
       "        -4.79091108e-02,   2.00672895e-02,   3.11571769e-02,\n",
       "         3.10967006e-02,   9.34770796e-03,   5.77007374e-03,\n",
       "         4.96545769e-02,   2.41829008e-01,  -2.34131977e-01,\n",
       "        -2.38871202e-02,  -1.32254317e-01,   7.44979158e-02,\n",
       "         5.04376814e-02,   1.04282275e-01,   9.77130160e-02,\n",
       "         2.62865245e-01,  -2.67438114e-01,  -3.73599119e-02,\n",
       "        -3.78026366e-02,  -1.83881864e-01,  -1.03363797e-01,\n",
       "         3.98887172e-02,   5.13160489e-02,   1.93318829e-01,\n",
       "         1.83704600e-01,   3.33218187e-01,   9.24565569e-02,\n",
       "        -5.91161728e-01,  -6.98359087e-02,  -1.46268625e-02,\n",
       "        -9.86182988e-02,  -1.19008452e-01,  -4.24032696e-02,\n",
       "        -3.06653734e-02,   5.62984347e-02,   7.82188028e-02,\n",
       "         7.05525354e-02,   1.41601590e-02,   1.98635701e-02,\n",
       "         5.10689453e-04,   1.20814284e-03,   2.39626691e-03,\n",
       "         1.21705933e-03,   2.01525795e-03,   6.02993008e-04], dtype=float32)"
      ]
     },
     "execution_count": 15,
     "metadata": {},
     "output_type": "execute_result"
    }
   ],
   "source": [
    "u[0]"
   ]
  },
  {
   "cell_type": "code",
   "execution_count": 16,
   "metadata": {},
   "outputs": [
    {
     "data": {
      "text/plain": [
       "array([-0.01198003, -0.02363502, -0.00056557, -0.01808478,  0.01355717,\n",
       "       -0.0218466 ,  0.02004333, -0.01030545,  0.04164858, -0.05961462,\n",
       "        0.0096071 ,  0.00955861,  0.03201466, -0.02809969,  0.04034285,\n",
       "        0.01518832,  0.02797076, -0.05359123,  0.01543022, -0.01417542,\n",
       "        0.01842364, -0.01320327,  0.07798466,  0.00314299,  0.03531499,\n",
       "       -0.03131276,  0.00968965, -0.01351455,  0.0353543 ,  0.00802274,\n",
       "       -0.04875888,  0.00252122, -0.12459654,  0.06284586,  0.00466081,\n",
       "        0.0167742 , -0.02784975,  0.02071902, -0.01772398, -0.00232563,\n",
       "        0.10377033,  0.01523124,  0.01159056, -0.07716426,  0.13215283,\n",
       "        0.02678249, -0.05086962, -0.01098073, -0.01596842,  0.04407393,\n",
       "        0.12286763,  0.19135644, -0.20119311, -0.00823895, -0.06593734,\n",
       "       -0.15662101, -0.01763657,  0.01169556, -0.03223423, -0.04479931,\n",
       "       -0.10637462,  0.01557477, -0.08889989,  0.16649537, -0.02491343,\n",
       "        0.17790031, -0.08053398, -0.13581008, -0.37299576, -0.21378683,\n",
       "       -0.4509356 , -0.53062165, -0.09960834,  0.03534326, -0.01836504,\n",
       "        0.00322026, -0.00287863, -0.00154298, -0.00085095,  0.00076245,\n",
       "        0.00098144], dtype=float32)"
      ]
     },
     "execution_count": 16,
     "metadata": {},
     "output_type": "execute_result"
    }
   ],
   "source": [
    "u[1]"
   ]
  },
  {
   "cell_type": "code",
   "execution_count": 17,
   "metadata": {},
   "outputs": [
    {
     "data": {
      "text/plain": [
       "81"
      ]
     },
     "execution_count": 17,
     "metadata": {},
     "output_type": "execute_result"
    }
   ],
   "source": [
    "len(u[0])"
   ]
  },
  {
   "cell_type": "code",
   "execution_count": 18,
   "metadata": {
    "collapsed": true
   },
   "outputs": [],
   "source": [
    "#for file in files:\n",
    "    #crval1 = file[1].header['CRVAL1']\n",
    "    #cdelt1 = file[1].header['CDELT1']\n",
    "    #data = print(crval1*cdelt1)"
   ]
  },
  {
   "cell_type": "code",
   "execution_count": 19,
   "metadata": {
    "collapsed": true
   },
   "outputs": [],
   "source": [
    "#type(file[1].header['CDELT1'])"
   ]
  },
  {
   "cell_type": "code",
   "execution_count": 20,
   "metadata": {
    "collapsed": true,
    "scrolled": false
   },
   "outputs": [],
   "source": [
    "#files"
   ]
  },
  {
   "cell_type": "code",
   "execution_count": 21,
   "metadata": {},
   "outputs": [
    {
     "data": {
      "text/plain": [
       "array([[ -1.19812209e-02,  -2.43520271e-02,  -4.61413409e-04, ...,\n",
       "          1.21705933e-03,   2.01525795e-03,   6.02993008e-04],\n",
       "       [ -1.19800279e-02,  -2.36350242e-02,  -5.65569266e-04, ...,\n",
       "         -8.50946293e-04,   7.62449694e-04,   9.81441117e-04],\n",
       "       [ -1.19700488e-02,  -2.18097493e-02,  -9.75823321e-04, ...,\n",
       "          5.05882781e-04,  -4.50337189e-04,  -1.73995286e-04],\n",
       "       ..., \n",
       "       [ -9.14305728e-03,  -5.48170297e-04,  -1.17135318e-02, ...,\n",
       "         -6.91197871e-04,  -4.11653979e-04,  -3.56018900e-05],\n",
       "       [ -9.01954994e-03,  -1.18419691e-03,  -1.11217145e-02, ...,\n",
       "          5.77798288e-04,   5.62622794e-04,  -7.26580547e-05],\n",
       "       [ -4.03659403e-01,  -8.19767833e-01,   3.94124910e-02, ...,\n",
       "         -3.08623385e-05,  -6.96441566e-05,  -1.91049076e-05]], dtype=float32)"
      ]
     },
     "execution_count": 21,
     "metadata": {},
     "output_type": "execute_result"
    }
   ],
   "source": [
    "u"
   ]
  },
  {
   "cell_type": "code",
   "execution_count": 22,
   "metadata": {},
   "outputs": [
    {
     "data": {
      "text/plain": [
       "array([  1.32804288e+06,   1.20378125e+05,   3.97510586e+04,\n",
       "         2.49753789e+04,   1.46105273e+04,   1.33943369e+04,\n",
       "         1.09085703e+04,   1.04540361e+04,   9.12223926e+03,\n",
       "         7.99786914e+03,   7.55324268e+03,   6.57322852e+03,\n",
       "         6.33645020e+03,   5.67429199e+03,   4.97257324e+03,\n",
       "         4.45949756e+03,   4.29360254e+03,   4.07401636e+03,\n",
       "         3.69890820e+03,   3.51775024e+03,   3.43939380e+03,\n",
       "         3.18984863e+03,   2.93545996e+03,   2.63734619e+03,\n",
       "         2.61038159e+03,   2.43604175e+03,   2.38422461e+03,\n",
       "         2.35035156e+03,   2.19463232e+03,   2.11228491e+03,\n",
       "         2.02445129e+03,   1.77185925e+03,   1.60853223e+03,\n",
       "         1.48359460e+03,   1.37305884e+03,   1.33522205e+03,\n",
       "         1.28857397e+03,   1.25789270e+03,   1.24473315e+03,\n",
       "         1.20567737e+03,   1.16480554e+03,   1.12943542e+03,\n",
       "         1.10109497e+03,   1.07337036e+03,   1.04901794e+03,\n",
       "         9.87641052e+02,   9.10310669e+02,   8.71138977e+02,\n",
       "         8.49323669e+02,   8.41667664e+02,   8.23103088e+02,\n",
       "         7.69455017e+02,   7.57550354e+02,   7.05443848e+02,\n",
       "         6.94185730e+02,   6.70766602e+02,   5.88626648e+02,\n",
       "         5.75137451e+02,   5.61106628e+02,   5.26644165e+02,\n",
       "         5.20380859e+02,   5.07063538e+02,   4.79005585e+02,\n",
       "         4.53138550e+02,   4.40263428e+02,   4.19787140e+02,\n",
       "         3.96432465e+02,   3.77330688e+02,   3.60161987e+02,\n",
       "         3.54487030e+02,   2.86178772e+02,   2.75689148e+02,\n",
       "         2.44734344e+02,   2.37644531e+02,   2.22989792e+02,\n",
       "         5.45305405e+01,   3.97122765e+01,   3.00073833e+01,\n",
       "         2.88932724e+01,   2.66900597e+01,   1.75107746e+01], dtype=float32)"
      ]
     },
     "execution_count": 22,
     "metadata": {},
     "output_type": "execute_result"
    }
   ],
   "source": [
    "s"
   ]
  },
  {
   "cell_type": "code",
   "execution_count": 23,
   "metadata": {},
   "outputs": [
    {
     "data": {
      "text/plain": [
       "array([[  2.31785881e-16,   8.78695684e-18,   1.92429656e-17, ...,\n",
       "          0.00000000e+00,   0.00000000e+00,   0.00000000e+00],\n",
       "       [ -7.66577364e-16,  -8.17823082e-17,  -2.14338544e-17, ...,\n",
       "          0.00000000e+00,   0.00000000e+00,   0.00000000e+00],\n",
       "       [ -1.73791719e-16,  -7.17907407e-17,  -1.47650257e-16, ...,\n",
       "          0.00000000e+00,   0.00000000e+00,   0.00000000e+00],\n",
       "       ..., \n",
       "       [  7.87760021e-14,   4.77679275e-15,  -7.36950322e-16, ...,\n",
       "          0.00000000e+00,   0.00000000e+00,   0.00000000e+00],\n",
       "       [  1.79477391e-13,  -9.46880259e-15,   3.74058864e-14, ...,\n",
       "          0.00000000e+00,   0.00000000e+00,   0.00000000e+00],\n",
       "       [  6.49469573e-13,   8.26900245e-15,  -2.49684967e-14, ...,\n",
       "          0.00000000e+00,   0.00000000e+00,   0.00000000e+00]], dtype=float32)"
      ]
     },
     "execution_count": 23,
     "metadata": {},
     "output_type": "execute_result"
    }
   ],
   "source": [
    "v"
   ]
  },
  {
   "cell_type": "code",
   "execution_count": 46,
   "metadata": {},
   "outputs": [
    {
     "data": {
      "text/plain": [
       "array([  2.31785881e-16,   8.78695684e-18,   1.92429656e-17, ...,\n",
       "         0.00000000e+00,   0.00000000e+00,   0.00000000e+00], dtype=float32)"
      ]
     },
     "execution_count": 46,
     "metadata": {},
     "output_type": "execute_result"
    }
   ],
   "source": [
    "v[0,:]"
   ]
  },
  {
   "cell_type": "code",
   "execution_count": 47,
   "metadata": {},
   "outputs": [
    {
     "data": {
      "text/plain": [
       "array([ -7.66577364e-16,  -8.17823082e-17,  -2.14338544e-17, ...,\n",
       "         0.00000000e+00,   0.00000000e+00,   0.00000000e+00], dtype=float32)"
      ]
     },
     "execution_count": 47,
     "metadata": {},
     "output_type": "execute_result"
    }
   ],
   "source": [
    "v[1,:]"
   ]
  },
  {
   "cell_type": "code",
   "execution_count": 48,
   "metadata": {},
   "outputs": [
    {
     "data": {
      "text/plain": [
       "array([ -1.73791719e-16,  -7.17907407e-17,  -1.47650257e-16, ...,\n",
       "         0.00000000e+00,   0.00000000e+00,   0.00000000e+00], dtype=float32)"
      ]
     },
     "execution_count": 48,
     "metadata": {},
     "output_type": "execute_result"
    }
   ],
   "source": [
    "v[2,:]"
   ]
  },
  {
   "cell_type": "code",
   "execution_count": 49,
   "metadata": {},
   "outputs": [
    {
     "data": {
      "text/plain": [
       "array([  1.96973531e-15,  -7.01419464e-18,   4.52940909e-17, ...,\n",
       "         0.00000000e+00,   0.00000000e+00,   0.00000000e+00], dtype=float32)"
      ]
     },
     "execution_count": 49,
     "metadata": {},
     "output_type": "execute_result"
    }
   ],
   "source": [
    "v[3,:]"
   ]
  },
  {
   "cell_type": "code",
   "execution_count": 50,
   "metadata": {},
   "outputs": [
    {
     "data": {
      "text/plain": [
       "((81, 81), (81,), (81, 8575))"
      ]
     },
     "execution_count": 50,
     "metadata": {},
     "output_type": "execute_result"
    }
   ],
   "source": [
    "u.shape, s.shape, v.shape"
   ]
  },
  {
   "cell_type": "code",
   "execution_count": 51,
   "metadata": {
    "collapsed": true
   },
   "outputs": [],
   "source": [
    "full_matrix = v"
   ]
  },
  {
   "cell_type": "code",
   "execution_count": 52,
   "metadata": {
    "collapsed": true
   },
   "outputs": [],
   "source": [
    "zm_full_matrix = full_matrix-np.mean(full_matrix, axis=0)"
   ]
  },
  {
   "cell_type": "code",
   "execution_count": 53,
   "metadata": {},
   "outputs": [
    {
     "data": {
      "text/plain": [
       "array([[ -3.08558687e-14,   1.40904418e-15,  -4.77000971e-15, ...,\n",
       "          0.00000000e+00,   0.00000000e+00,   0.00000000e+00],\n",
       "       [ -3.18542325e-14,   1.31847497e-15,  -4.81068635e-15, ...,\n",
       "          0.00000000e+00,   0.00000000e+00,   0.00000000e+00],\n",
       "       [ -3.12614450e-14,   1.32846657e-15,  -4.93690273e-15, ...,\n",
       "          0.00000000e+00,   0.00000000e+00,   0.00000000e+00],\n",
       "       ..., \n",
       "       [  4.76883480e-14,   6.17705002e-15,  -5.52620304e-15, ...,\n",
       "          0.00000000e+00,   0.00000000e+00,   0.00000000e+00],\n",
       "       [  1.48389737e-13,  -8.06854532e-15,   3.26166333e-14, ...,\n",
       "          0.00000000e+00,   0.00000000e+00,   0.00000000e+00],\n",
       "       [  6.18381919e-13,   9.66925972e-15,  -2.97577481e-14, ...,\n",
       "          0.00000000e+00,   0.00000000e+00,   0.00000000e+00]], dtype=float32)"
      ]
     },
     "execution_count": 53,
     "metadata": {},
     "output_type": "execute_result"
    }
   ],
   "source": [
    "zm_full_matrix"
   ]
  },
  {
   "cell_type": "code",
   "execution_count": 54,
   "metadata": {},
   "outputs": [
    {
     "data": {
      "text/plain": [
       "array([ -3.08558687e-14,   1.40904418e-15,  -4.77000971e-15, ...,\n",
       "         0.00000000e+00,   0.00000000e+00,   0.00000000e+00], dtype=float32)"
      ]
     },
     "execution_count": 54,
     "metadata": {},
     "output_type": "execute_result"
    }
   ],
   "source": [
    "zm_full_matrix[0]"
   ]
  },
  {
   "cell_type": "code",
   "execution_count": 82,
   "metadata": {},
   "outputs": [
    {
     "data": {
      "application/javascript": [
       "/* Put everything inside the global mpl namespace */\n",
       "window.mpl = {};\n",
       "\n",
       "\n",
       "mpl.get_websocket_type = function() {\n",
       "    if (typeof(WebSocket) !== 'undefined') {\n",
       "        return WebSocket;\n",
       "    } else if (typeof(MozWebSocket) !== 'undefined') {\n",
       "        return MozWebSocket;\n",
       "    } else {\n",
       "        alert('Your browser does not have WebSocket support.' +\n",
       "              'Please try Chrome, Safari or Firefox ≥ 6. ' +\n",
       "              'Firefox 4 and 5 are also supported but you ' +\n",
       "              'have to enable WebSockets in about:config.');\n",
       "    };\n",
       "}\n",
       "\n",
       "mpl.figure = function(figure_id, websocket, ondownload, parent_element) {\n",
       "    this.id = figure_id;\n",
       "\n",
       "    this.ws = websocket;\n",
       "\n",
       "    this.supports_binary = (this.ws.binaryType != undefined);\n",
       "\n",
       "    if (!this.supports_binary) {\n",
       "        var warnings = document.getElementById(\"mpl-warnings\");\n",
       "        if (warnings) {\n",
       "            warnings.style.display = 'block';\n",
       "            warnings.textContent = (\n",
       "                \"This browser does not support binary websocket messages. \" +\n",
       "                    \"Performance may be slow.\");\n",
       "        }\n",
       "    }\n",
       "\n",
       "    this.imageObj = new Image();\n",
       "\n",
       "    this.context = undefined;\n",
       "    this.message = undefined;\n",
       "    this.canvas = undefined;\n",
       "    this.rubberband_canvas = undefined;\n",
       "    this.rubberband_context = undefined;\n",
       "    this.format_dropdown = undefined;\n",
       "\n",
       "    this.image_mode = 'full';\n",
       "\n",
       "    this.root = $('<div/>');\n",
       "    this._root_extra_style(this.root)\n",
       "    this.root.attr('style', 'display: inline-block');\n",
       "\n",
       "    $(parent_element).append(this.root);\n",
       "\n",
       "    this._init_header(this);\n",
       "    this._init_canvas(this);\n",
       "    this._init_toolbar(this);\n",
       "\n",
       "    var fig = this;\n",
       "\n",
       "    this.waiting = false;\n",
       "\n",
       "    this.ws.onopen =  function () {\n",
       "            fig.send_message(\"supports_binary\", {value: fig.supports_binary});\n",
       "            fig.send_message(\"send_image_mode\", {});\n",
       "            if (mpl.ratio != 1) {\n",
       "                fig.send_message(\"set_dpi_ratio\", {'dpi_ratio': mpl.ratio});\n",
       "            }\n",
       "            fig.send_message(\"refresh\", {});\n",
       "        }\n",
       "\n",
       "    this.imageObj.onload = function() {\n",
       "            if (fig.image_mode == 'full') {\n",
       "                // Full images could contain transparency (where diff images\n",
       "                // almost always do), so we need to clear the canvas so that\n",
       "                // there is no ghosting.\n",
       "                fig.context.clearRect(0, 0, fig.canvas.width, fig.canvas.height);\n",
       "            }\n",
       "            fig.context.drawImage(fig.imageObj, 0, 0);\n",
       "        };\n",
       "\n",
       "    this.imageObj.onunload = function() {\n",
       "        fig.ws.close();\n",
       "    }\n",
       "\n",
       "    this.ws.onmessage = this._make_on_message_function(this);\n",
       "\n",
       "    this.ondownload = ondownload;\n",
       "}\n",
       "\n",
       "mpl.figure.prototype._init_header = function() {\n",
       "    var titlebar = $(\n",
       "        '<div class=\"ui-dialog-titlebar ui-widget-header ui-corner-all ' +\n",
       "        'ui-helper-clearfix\"/>');\n",
       "    var titletext = $(\n",
       "        '<div class=\"ui-dialog-title\" style=\"width: 100%; ' +\n",
       "        'text-align: center; padding: 3px;\"/>');\n",
       "    titlebar.append(titletext)\n",
       "    this.root.append(titlebar);\n",
       "    this.header = titletext[0];\n",
       "}\n",
       "\n",
       "\n",
       "\n",
       "mpl.figure.prototype._canvas_extra_style = function(canvas_div) {\n",
       "\n",
       "}\n",
       "\n",
       "\n",
       "mpl.figure.prototype._root_extra_style = function(canvas_div) {\n",
       "\n",
       "}\n",
       "\n",
       "mpl.figure.prototype._init_canvas = function() {\n",
       "    var fig = this;\n",
       "\n",
       "    var canvas_div = $('<div/>');\n",
       "\n",
       "    canvas_div.attr('style', 'position: relative; clear: both; outline: 0');\n",
       "\n",
       "    function canvas_keyboard_event(event) {\n",
       "        return fig.key_event(event, event['data']);\n",
       "    }\n",
       "\n",
       "    canvas_div.keydown('key_press', canvas_keyboard_event);\n",
       "    canvas_div.keyup('key_release', canvas_keyboard_event);\n",
       "    this.canvas_div = canvas_div\n",
       "    this._canvas_extra_style(canvas_div)\n",
       "    this.root.append(canvas_div);\n",
       "\n",
       "    var canvas = $('<canvas/>');\n",
       "    canvas.addClass('mpl-canvas');\n",
       "    canvas.attr('style', \"left: 0; top: 0; z-index: 0; outline: 0\")\n",
       "\n",
       "    this.canvas = canvas[0];\n",
       "    this.context = canvas[0].getContext(\"2d\");\n",
       "\n",
       "    var backingStore = this.context.backingStorePixelRatio ||\n",
       "\tthis.context.webkitBackingStorePixelRatio ||\n",
       "\tthis.context.mozBackingStorePixelRatio ||\n",
       "\tthis.context.msBackingStorePixelRatio ||\n",
       "\tthis.context.oBackingStorePixelRatio ||\n",
       "\tthis.context.backingStorePixelRatio || 1;\n",
       "\n",
       "    mpl.ratio = (window.devicePixelRatio || 1) / backingStore;\n",
       "\n",
       "    var rubberband = $('<canvas/>');\n",
       "    rubberband.attr('style', \"position: absolute; left: 0; top: 0; z-index: 1;\")\n",
       "\n",
       "    var pass_mouse_events = true;\n",
       "\n",
       "    canvas_div.resizable({\n",
       "        start: function(event, ui) {\n",
       "            pass_mouse_events = false;\n",
       "        },\n",
       "        resize: function(event, ui) {\n",
       "            fig.request_resize(ui.size.width, ui.size.height);\n",
       "        },\n",
       "        stop: function(event, ui) {\n",
       "            pass_mouse_events = true;\n",
       "            fig.request_resize(ui.size.width, ui.size.height);\n",
       "        },\n",
       "    });\n",
       "\n",
       "    function mouse_event_fn(event) {\n",
       "        if (pass_mouse_events)\n",
       "            return fig.mouse_event(event, event['data']);\n",
       "    }\n",
       "\n",
       "    rubberband.mousedown('button_press', mouse_event_fn);\n",
       "    rubberband.mouseup('button_release', mouse_event_fn);\n",
       "    // Throttle sequential mouse events to 1 every 20ms.\n",
       "    rubberband.mousemove('motion_notify', mouse_event_fn);\n",
       "\n",
       "    rubberband.mouseenter('figure_enter', mouse_event_fn);\n",
       "    rubberband.mouseleave('figure_leave', mouse_event_fn);\n",
       "\n",
       "    canvas_div.on(\"wheel\", function (event) {\n",
       "        event = event.originalEvent;\n",
       "        event['data'] = 'scroll'\n",
       "        if (event.deltaY < 0) {\n",
       "            event.step = 1;\n",
       "        } else {\n",
       "            event.step = -1;\n",
       "        }\n",
       "        mouse_event_fn(event);\n",
       "    });\n",
       "\n",
       "    canvas_div.append(canvas);\n",
       "    canvas_div.append(rubberband);\n",
       "\n",
       "    this.rubberband = rubberband;\n",
       "    this.rubberband_canvas = rubberband[0];\n",
       "    this.rubberband_context = rubberband[0].getContext(\"2d\");\n",
       "    this.rubberband_context.strokeStyle = \"#000000\";\n",
       "\n",
       "    this._resize_canvas = function(width, height) {\n",
       "        // Keep the size of the canvas, canvas container, and rubber band\n",
       "        // canvas in synch.\n",
       "        canvas_div.css('width', width)\n",
       "        canvas_div.css('height', height)\n",
       "\n",
       "        canvas.attr('width', width * mpl.ratio);\n",
       "        canvas.attr('height', height * mpl.ratio);\n",
       "        canvas.attr('style', 'width: ' + width + 'px; height: ' + height + 'px;');\n",
       "\n",
       "        rubberband.attr('width', width);\n",
       "        rubberband.attr('height', height);\n",
       "    }\n",
       "\n",
       "    // Set the figure to an initial 600x600px, this will subsequently be updated\n",
       "    // upon first draw.\n",
       "    this._resize_canvas(600, 600);\n",
       "\n",
       "    // Disable right mouse context menu.\n",
       "    $(this.rubberband_canvas).bind(\"contextmenu\",function(e){\n",
       "        return false;\n",
       "    });\n",
       "\n",
       "    function set_focus () {\n",
       "        canvas.focus();\n",
       "        canvas_div.focus();\n",
       "    }\n",
       "\n",
       "    window.setTimeout(set_focus, 100);\n",
       "}\n",
       "\n",
       "mpl.figure.prototype._init_toolbar = function() {\n",
       "    var fig = this;\n",
       "\n",
       "    var nav_element = $('<div/>')\n",
       "    nav_element.attr('style', 'width: 100%');\n",
       "    this.root.append(nav_element);\n",
       "\n",
       "    // Define a callback function for later on.\n",
       "    function toolbar_event(event) {\n",
       "        return fig.toolbar_button_onclick(event['data']);\n",
       "    }\n",
       "    function toolbar_mouse_event(event) {\n",
       "        return fig.toolbar_button_onmouseover(event['data']);\n",
       "    }\n",
       "\n",
       "    for(var toolbar_ind in mpl.toolbar_items) {\n",
       "        var name = mpl.toolbar_items[toolbar_ind][0];\n",
       "        var tooltip = mpl.toolbar_items[toolbar_ind][1];\n",
       "        var image = mpl.toolbar_items[toolbar_ind][2];\n",
       "        var method_name = mpl.toolbar_items[toolbar_ind][3];\n",
       "\n",
       "        if (!name) {\n",
       "            // put a spacer in here.\n",
       "            continue;\n",
       "        }\n",
       "        var button = $('<button/>');\n",
       "        button.addClass('ui-button ui-widget ui-state-default ui-corner-all ' +\n",
       "                        'ui-button-icon-only');\n",
       "        button.attr('role', 'button');\n",
       "        button.attr('aria-disabled', 'false');\n",
       "        button.click(method_name, toolbar_event);\n",
       "        button.mouseover(tooltip, toolbar_mouse_event);\n",
       "\n",
       "        var icon_img = $('<span/>');\n",
       "        icon_img.addClass('ui-button-icon-primary ui-icon');\n",
       "        icon_img.addClass(image);\n",
       "        icon_img.addClass('ui-corner-all');\n",
       "\n",
       "        var tooltip_span = $('<span/>');\n",
       "        tooltip_span.addClass('ui-button-text');\n",
       "        tooltip_span.html(tooltip);\n",
       "\n",
       "        button.append(icon_img);\n",
       "        button.append(tooltip_span);\n",
       "\n",
       "        nav_element.append(button);\n",
       "    }\n",
       "\n",
       "    var fmt_picker_span = $('<span/>');\n",
       "\n",
       "    var fmt_picker = $('<select/>');\n",
       "    fmt_picker.addClass('mpl-toolbar-option ui-widget ui-widget-content');\n",
       "    fmt_picker_span.append(fmt_picker);\n",
       "    nav_element.append(fmt_picker_span);\n",
       "    this.format_dropdown = fmt_picker[0];\n",
       "\n",
       "    for (var ind in mpl.extensions) {\n",
       "        var fmt = mpl.extensions[ind];\n",
       "        var option = $(\n",
       "            '<option/>', {selected: fmt === mpl.default_extension}).html(fmt);\n",
       "        fmt_picker.append(option)\n",
       "    }\n",
       "\n",
       "    // Add hover states to the ui-buttons\n",
       "    $( \".ui-button\" ).hover(\n",
       "        function() { $(this).addClass(\"ui-state-hover\");},\n",
       "        function() { $(this).removeClass(\"ui-state-hover\");}\n",
       "    );\n",
       "\n",
       "    var status_bar = $('<span class=\"mpl-message\"/>');\n",
       "    nav_element.append(status_bar);\n",
       "    this.message = status_bar[0];\n",
       "}\n",
       "\n",
       "mpl.figure.prototype.request_resize = function(x_pixels, y_pixels) {\n",
       "    // Request matplotlib to resize the figure. Matplotlib will then trigger a resize in the client,\n",
       "    // which will in turn request a refresh of the image.\n",
       "    this.send_message('resize', {'width': x_pixels, 'height': y_pixels});\n",
       "}\n",
       "\n",
       "mpl.figure.prototype.send_message = function(type, properties) {\n",
       "    properties['type'] = type;\n",
       "    properties['figure_id'] = this.id;\n",
       "    this.ws.send(JSON.stringify(properties));\n",
       "}\n",
       "\n",
       "mpl.figure.prototype.send_draw_message = function() {\n",
       "    if (!this.waiting) {\n",
       "        this.waiting = true;\n",
       "        this.ws.send(JSON.stringify({type: \"draw\", figure_id: this.id}));\n",
       "    }\n",
       "}\n",
       "\n",
       "\n",
       "mpl.figure.prototype.handle_save = function(fig, msg) {\n",
       "    var format_dropdown = fig.format_dropdown;\n",
       "    var format = format_dropdown.options[format_dropdown.selectedIndex].value;\n",
       "    fig.ondownload(fig, format);\n",
       "}\n",
       "\n",
       "\n",
       "mpl.figure.prototype.handle_resize = function(fig, msg) {\n",
       "    var size = msg['size'];\n",
       "    if (size[0] != fig.canvas.width || size[1] != fig.canvas.height) {\n",
       "        fig._resize_canvas(size[0], size[1]);\n",
       "        fig.send_message(\"refresh\", {});\n",
       "    };\n",
       "}\n",
       "\n",
       "mpl.figure.prototype.handle_rubberband = function(fig, msg) {\n",
       "    var x0 = msg['x0'] / mpl.ratio;\n",
       "    var y0 = (fig.canvas.height - msg['y0']) / mpl.ratio;\n",
       "    var x1 = msg['x1'] / mpl.ratio;\n",
       "    var y1 = (fig.canvas.height - msg['y1']) / mpl.ratio;\n",
       "    x0 = Math.floor(x0) + 0.5;\n",
       "    y0 = Math.floor(y0) + 0.5;\n",
       "    x1 = Math.floor(x1) + 0.5;\n",
       "    y1 = Math.floor(y1) + 0.5;\n",
       "    var min_x = Math.min(x0, x1);\n",
       "    var min_y = Math.min(y0, y1);\n",
       "    var width = Math.abs(x1 - x0);\n",
       "    var height = Math.abs(y1 - y0);\n",
       "\n",
       "    fig.rubberband_context.clearRect(\n",
       "        0, 0, fig.canvas.width, fig.canvas.height);\n",
       "\n",
       "    fig.rubberband_context.strokeRect(min_x, min_y, width, height);\n",
       "}\n",
       "\n",
       "mpl.figure.prototype.handle_figure_label = function(fig, msg) {\n",
       "    // Updates the figure title.\n",
       "    fig.header.textContent = msg['label'];\n",
       "}\n",
       "\n",
       "mpl.figure.prototype.handle_cursor = function(fig, msg) {\n",
       "    var cursor = msg['cursor'];\n",
       "    switch(cursor)\n",
       "    {\n",
       "    case 0:\n",
       "        cursor = 'pointer';\n",
       "        break;\n",
       "    case 1:\n",
       "        cursor = 'default';\n",
       "        break;\n",
       "    case 2:\n",
       "        cursor = 'crosshair';\n",
       "        break;\n",
       "    case 3:\n",
       "        cursor = 'move';\n",
       "        break;\n",
       "    }\n",
       "    fig.rubberband_canvas.style.cursor = cursor;\n",
       "}\n",
       "\n",
       "mpl.figure.prototype.handle_message = function(fig, msg) {\n",
       "    fig.message.textContent = msg['message'];\n",
       "}\n",
       "\n",
       "mpl.figure.prototype.handle_draw = function(fig, msg) {\n",
       "    // Request the server to send over a new figure.\n",
       "    fig.send_draw_message();\n",
       "}\n",
       "\n",
       "mpl.figure.prototype.handle_image_mode = function(fig, msg) {\n",
       "    fig.image_mode = msg['mode'];\n",
       "}\n",
       "\n",
       "mpl.figure.prototype.updated_canvas_event = function() {\n",
       "    // Called whenever the canvas gets updated.\n",
       "    this.send_message(\"ack\", {});\n",
       "}\n",
       "\n",
       "// A function to construct a web socket function for onmessage handling.\n",
       "// Called in the figure constructor.\n",
       "mpl.figure.prototype._make_on_message_function = function(fig) {\n",
       "    return function socket_on_message(evt) {\n",
       "        if (evt.data instanceof Blob) {\n",
       "            /* FIXME: We get \"Resource interpreted as Image but\n",
       "             * transferred with MIME type text/plain:\" errors on\n",
       "             * Chrome.  But how to set the MIME type?  It doesn't seem\n",
       "             * to be part of the websocket stream */\n",
       "            evt.data.type = \"image/png\";\n",
       "\n",
       "            /* Free the memory for the previous frames */\n",
       "            if (fig.imageObj.src) {\n",
       "                (window.URL || window.webkitURL).revokeObjectURL(\n",
       "                    fig.imageObj.src);\n",
       "            }\n",
       "\n",
       "            fig.imageObj.src = (window.URL || window.webkitURL).createObjectURL(\n",
       "                evt.data);\n",
       "            fig.updated_canvas_event();\n",
       "            fig.waiting = false;\n",
       "            return;\n",
       "        }\n",
       "        else if (typeof evt.data === 'string' && evt.data.slice(0, 21) == \"data:image/png;base64\") {\n",
       "            fig.imageObj.src = evt.data;\n",
       "            fig.updated_canvas_event();\n",
       "            fig.waiting = false;\n",
       "            return;\n",
       "        }\n",
       "\n",
       "        var msg = JSON.parse(evt.data);\n",
       "        var msg_type = msg['type'];\n",
       "\n",
       "        // Call the  \"handle_{type}\" callback, which takes\n",
       "        // the figure and JSON message as its only arguments.\n",
       "        try {\n",
       "            var callback = fig[\"handle_\" + msg_type];\n",
       "        } catch (e) {\n",
       "            console.log(\"No handler for the '\" + msg_type + \"' message type: \", msg);\n",
       "            return;\n",
       "        }\n",
       "\n",
       "        if (callback) {\n",
       "            try {\n",
       "                // console.log(\"Handling '\" + msg_type + \"' message: \", msg);\n",
       "                callback(fig, msg);\n",
       "            } catch (e) {\n",
       "                console.log(\"Exception inside the 'handler_\" + msg_type + \"' callback:\", e, e.stack, msg);\n",
       "            }\n",
       "        }\n",
       "    };\n",
       "}\n",
       "\n",
       "// from http://stackoverflow.com/questions/1114465/getting-mouse-location-in-canvas\n",
       "mpl.findpos = function(e) {\n",
       "    //this section is from http://www.quirksmode.org/js/events_properties.html\n",
       "    var targ;\n",
       "    if (!e)\n",
       "        e = window.event;\n",
       "    if (e.target)\n",
       "        targ = e.target;\n",
       "    else if (e.srcElement)\n",
       "        targ = e.srcElement;\n",
       "    if (targ.nodeType == 3) // defeat Safari bug\n",
       "        targ = targ.parentNode;\n",
       "\n",
       "    // jQuery normalizes the pageX and pageY\n",
       "    // pageX,Y are the mouse positions relative to the document\n",
       "    // offset() returns the position of the element relative to the document\n",
       "    var x = e.pageX - $(targ).offset().left;\n",
       "    var y = e.pageY - $(targ).offset().top;\n",
       "\n",
       "    return {\"x\": x, \"y\": y};\n",
       "};\n",
       "\n",
       "/*\n",
       " * return a copy of an object with only non-object keys\n",
       " * we need this to avoid circular references\n",
       " * http://stackoverflow.com/a/24161582/3208463\n",
       " */\n",
       "function simpleKeys (original) {\n",
       "  return Object.keys(original).reduce(function (obj, key) {\n",
       "    if (typeof original[key] !== 'object')\n",
       "        obj[key] = original[key]\n",
       "    return obj;\n",
       "  }, {});\n",
       "}\n",
       "\n",
       "mpl.figure.prototype.mouse_event = function(event, name) {\n",
       "    var canvas_pos = mpl.findpos(event)\n",
       "\n",
       "    if (name === 'button_press')\n",
       "    {\n",
       "        this.canvas.focus();\n",
       "        this.canvas_div.focus();\n",
       "    }\n",
       "\n",
       "    var x = canvas_pos.x * mpl.ratio;\n",
       "    var y = canvas_pos.y * mpl.ratio;\n",
       "\n",
       "    this.send_message(name, {x: x, y: y, button: event.button,\n",
       "                             step: event.step,\n",
       "                             guiEvent: simpleKeys(event)});\n",
       "\n",
       "    /* This prevents the web browser from automatically changing to\n",
       "     * the text insertion cursor when the button is pressed.  We want\n",
       "     * to control all of the cursor setting manually through the\n",
       "     * 'cursor' event from matplotlib */\n",
       "    event.preventDefault();\n",
       "    return false;\n",
       "}\n",
       "\n",
       "mpl.figure.prototype._key_event_extra = function(event, name) {\n",
       "    // Handle any extra behaviour associated with a key event\n",
       "}\n",
       "\n",
       "mpl.figure.prototype.key_event = function(event, name) {\n",
       "\n",
       "    // Prevent repeat events\n",
       "    if (name == 'key_press')\n",
       "    {\n",
       "        if (event.which === this._key)\n",
       "            return;\n",
       "        else\n",
       "            this._key = event.which;\n",
       "    }\n",
       "    if (name == 'key_release')\n",
       "        this._key = null;\n",
       "\n",
       "    var value = '';\n",
       "    if (event.ctrlKey && event.which != 17)\n",
       "        value += \"ctrl+\";\n",
       "    if (event.altKey && event.which != 18)\n",
       "        value += \"alt+\";\n",
       "    if (event.shiftKey && event.which != 16)\n",
       "        value += \"shift+\";\n",
       "\n",
       "    value += 'k';\n",
       "    value += event.which.toString();\n",
       "\n",
       "    this._key_event_extra(event, name);\n",
       "\n",
       "    this.send_message(name, {key: value,\n",
       "                             guiEvent: simpleKeys(event)});\n",
       "    return false;\n",
       "}\n",
       "\n",
       "mpl.figure.prototype.toolbar_button_onclick = function(name) {\n",
       "    if (name == 'download') {\n",
       "        this.handle_save(this, null);\n",
       "    } else {\n",
       "        this.send_message(\"toolbar_button\", {name: name});\n",
       "    }\n",
       "};\n",
       "\n",
       "mpl.figure.prototype.toolbar_button_onmouseover = function(tooltip) {\n",
       "    this.message.textContent = tooltip;\n",
       "};\n",
       "mpl.toolbar_items = [[\"Home\", \"Reset original view\", \"fa fa-home icon-home\", \"home\"], [\"Back\", \"Back to  previous view\", \"fa fa-arrow-left icon-arrow-left\", \"back\"], [\"Forward\", \"Forward to next view\", \"fa fa-arrow-right icon-arrow-right\", \"forward\"], [\"\", \"\", \"\", \"\"], [\"Pan\", \"Pan axes with left mouse, zoom with right\", \"fa fa-arrows icon-move\", \"pan\"], [\"Zoom\", \"Zoom to rectangle\", \"fa fa-square-o icon-check-empty\", \"zoom\"], [\"\", \"\", \"\", \"\"], [\"Download\", \"Download plot\", \"fa fa-floppy-o icon-save\", \"download\"]];\n",
       "\n",
       "mpl.extensions = [\"eps\", \"jpeg\", \"pdf\", \"png\", \"ps\", \"raw\", \"svg\", \"tif\"];\n",
       "\n",
       "mpl.default_extension = \"png\";var comm_websocket_adapter = function(comm) {\n",
       "    // Create a \"websocket\"-like object which calls the given IPython comm\n",
       "    // object with the appropriate methods. Currently this is a non binary\n",
       "    // socket, so there is still some room for performance tuning.\n",
       "    var ws = {};\n",
       "\n",
       "    ws.close = function() {\n",
       "        comm.close()\n",
       "    };\n",
       "    ws.send = function(m) {\n",
       "        //console.log('sending', m);\n",
       "        comm.send(m);\n",
       "    };\n",
       "    // Register the callback with on_msg.\n",
       "    comm.on_msg(function(msg) {\n",
       "        //console.log('receiving', msg['content']['data'], msg);\n",
       "        // Pass the mpl event to the overriden (by mpl) onmessage function.\n",
       "        ws.onmessage(msg['content']['data'])\n",
       "    });\n",
       "    return ws;\n",
       "}\n",
       "\n",
       "mpl.mpl_figure_comm = function(comm, msg) {\n",
       "    // This is the function which gets called when the mpl process\n",
       "    // starts-up an IPython Comm through the \"matplotlib\" channel.\n",
       "\n",
       "    var id = msg.content.data.id;\n",
       "    // Get hold of the div created by the display call when the Comm\n",
       "    // socket was opened in Python.\n",
       "    var element = $(\"#\" + id);\n",
       "    var ws_proxy = comm_websocket_adapter(comm)\n",
       "\n",
       "    function ondownload(figure, format) {\n",
       "        window.open(figure.imageObj.src);\n",
       "    }\n",
       "\n",
       "    var fig = new mpl.figure(id, ws_proxy,\n",
       "                           ondownload,\n",
       "                           element.get(0));\n",
       "\n",
       "    // Call onopen now - mpl needs it, as it is assuming we've passed it a real\n",
       "    // web socket which is closed, not our websocket->open comm proxy.\n",
       "    ws_proxy.onopen();\n",
       "\n",
       "    fig.parent_element = element.get(0);\n",
       "    fig.cell_info = mpl.find_output_cell(\"<div id='\" + id + \"'></div>\");\n",
       "    if (!fig.cell_info) {\n",
       "        console.error(\"Failed to find cell for figure\", id, fig);\n",
       "        return;\n",
       "    }\n",
       "\n",
       "    var output_index = fig.cell_info[2]\n",
       "    var cell = fig.cell_info[0];\n",
       "\n",
       "};\n",
       "\n",
       "mpl.figure.prototype.handle_close = function(fig, msg) {\n",
       "    var width = fig.canvas.width/mpl.ratio\n",
       "    fig.root.unbind('remove')\n",
       "\n",
       "    // Update the output cell to use the data from the current canvas.\n",
       "    fig.push_to_output();\n",
       "    var dataURL = fig.canvas.toDataURL();\n",
       "    // Re-enable the keyboard manager in IPython - without this line, in FF,\n",
       "    // the notebook keyboard shortcuts fail.\n",
       "    IPython.keyboard_manager.enable()\n",
       "    $(fig.parent_element).html('<img src=\"' + dataURL + '\" width=\"' + width + '\">');\n",
       "    fig.close_ws(fig, msg);\n",
       "}\n",
       "\n",
       "mpl.figure.prototype.close_ws = function(fig, msg){\n",
       "    fig.send_message('closing', msg);\n",
       "    // fig.ws.close()\n",
       "}\n",
       "\n",
       "mpl.figure.prototype.push_to_output = function(remove_interactive) {\n",
       "    // Turn the data on the canvas into data in the output cell.\n",
       "    var width = this.canvas.width/mpl.ratio\n",
       "    var dataURL = this.canvas.toDataURL();\n",
       "    this.cell_info[1]['text/html'] = '<img src=\"' + dataURL + '\" width=\"' + width + '\">';\n",
       "}\n",
       "\n",
       "mpl.figure.prototype.updated_canvas_event = function() {\n",
       "    // Tell IPython that the notebook contents must change.\n",
       "    IPython.notebook.set_dirty(true);\n",
       "    this.send_message(\"ack\", {});\n",
       "    var fig = this;\n",
       "    // Wait a second, then push the new image to the DOM so\n",
       "    // that it is saved nicely (might be nice to debounce this).\n",
       "    setTimeout(function () { fig.push_to_output() }, 1000);\n",
       "}\n",
       "\n",
       "mpl.figure.prototype._init_toolbar = function() {\n",
       "    var fig = this;\n",
       "\n",
       "    var nav_element = $('<div/>')\n",
       "    nav_element.attr('style', 'width: 100%');\n",
       "    this.root.append(nav_element);\n",
       "\n",
       "    // Define a callback function for later on.\n",
       "    function toolbar_event(event) {\n",
       "        return fig.toolbar_button_onclick(event['data']);\n",
       "    }\n",
       "    function toolbar_mouse_event(event) {\n",
       "        return fig.toolbar_button_onmouseover(event['data']);\n",
       "    }\n",
       "\n",
       "    for(var toolbar_ind in mpl.toolbar_items){\n",
       "        var name = mpl.toolbar_items[toolbar_ind][0];\n",
       "        var tooltip = mpl.toolbar_items[toolbar_ind][1];\n",
       "        var image = mpl.toolbar_items[toolbar_ind][2];\n",
       "        var method_name = mpl.toolbar_items[toolbar_ind][3];\n",
       "\n",
       "        if (!name) { continue; };\n",
       "\n",
       "        var button = $('<button class=\"btn btn-default\" href=\"#\" title=\"' + name + '\"><i class=\"fa ' + image + ' fa-lg\"></i></button>');\n",
       "        button.click(method_name, toolbar_event);\n",
       "        button.mouseover(tooltip, toolbar_mouse_event);\n",
       "        nav_element.append(button);\n",
       "    }\n",
       "\n",
       "    // Add the status bar.\n",
       "    var status_bar = $('<span class=\"mpl-message\" style=\"text-align:right; float: right;\"/>');\n",
       "    nav_element.append(status_bar);\n",
       "    this.message = status_bar[0];\n",
       "\n",
       "    // Add the close button to the window.\n",
       "    var buttongrp = $('<div class=\"btn-group inline pull-right\"></div>');\n",
       "    var button = $('<button class=\"btn btn-mini btn-primary\" href=\"#\" title=\"Stop Interaction\"><i class=\"fa fa-power-off icon-remove icon-large\"></i></button>');\n",
       "    button.click(function (evt) { fig.handle_close(fig, {}); } );\n",
       "    button.mouseover('Stop Interaction', toolbar_mouse_event);\n",
       "    buttongrp.append(button);\n",
       "    var titlebar = this.root.find($('.ui-dialog-titlebar'));\n",
       "    titlebar.prepend(buttongrp);\n",
       "}\n",
       "\n",
       "mpl.figure.prototype._root_extra_style = function(el){\n",
       "    var fig = this\n",
       "    el.on(\"remove\", function(){\n",
       "\tfig.close_ws(fig, {});\n",
       "    });\n",
       "}\n",
       "\n",
       "mpl.figure.prototype._canvas_extra_style = function(el){\n",
       "    // this is important to make the div 'focusable\n",
       "    el.attr('tabindex', 0)\n",
       "    // reach out to IPython and tell the keyboard manager to turn it's self\n",
       "    // off when our div gets focus\n",
       "\n",
       "    // location in version 3\n",
       "    if (IPython.notebook.keyboard_manager) {\n",
       "        IPython.notebook.keyboard_manager.register_events(el);\n",
       "    }\n",
       "    else {\n",
       "        // location in version 2\n",
       "        IPython.keyboard_manager.register_events(el);\n",
       "    }\n",
       "\n",
       "}\n",
       "\n",
       "mpl.figure.prototype._key_event_extra = function(event, name) {\n",
       "    var manager = IPython.notebook.keyboard_manager;\n",
       "    if (!manager)\n",
       "        manager = IPython.keyboard_manager;\n",
       "\n",
       "    // Check for shift+enter\n",
       "    if (event.shiftKey && event.which == 13) {\n",
       "        this.canvas_div.blur();\n",
       "        event.shiftKey = false;\n",
       "        // Send a \"J\" for go to next cell\n",
       "        event.which = 74;\n",
       "        event.keyCode = 74;\n",
       "        manager.command_mode();\n",
       "        manager.handle_keydown(event);\n",
       "    }\n",
       "}\n",
       "\n",
       "mpl.figure.prototype.handle_save = function(fig, msg) {\n",
       "    fig.ondownload(fig, null);\n",
       "}\n",
       "\n",
       "\n",
       "mpl.find_output_cell = function(html_output) {\n",
       "    // Return the cell and output element which can be found *uniquely* in the notebook.\n",
       "    // Note - this is a bit hacky, but it is done because the \"notebook_saving.Notebook\"\n",
       "    // IPython event is triggered only after the cells have been serialised, which for\n",
       "    // our purposes (turning an active figure into a static one), is too late.\n",
       "    var cells = IPython.notebook.get_cells();\n",
       "    var ncells = cells.length;\n",
       "    for (var i=0; i<ncells; i++) {\n",
       "        var cell = cells[i];\n",
       "        if (cell.cell_type === 'code'){\n",
       "            for (var j=0; j<cell.output_area.outputs.length; j++) {\n",
       "                var data = cell.output_area.outputs[j];\n",
       "                if (data.data) {\n",
       "                    // IPython >= 3 moved mimebundle to data attribute of output\n",
       "                    data = data.data;\n",
       "                }\n",
       "                if (data['text/html'] == html_output) {\n",
       "                    return [cell, data, j];\n",
       "                }\n",
       "            }\n",
       "        }\n",
       "    }\n",
       "}\n",
       "\n",
       "// Register the function which deals with the matplotlib target/channel.\n",
       "// The kernel may be null if the page has been refreshed.\n",
       "if (IPython.notebook.kernel != null) {\n",
       "    IPython.notebook.kernel.comm_manager.register_target('matplotlib', mpl.mpl_figure_comm);\n",
       "}\n"
      ],
      "text/plain": [
       "<IPython.core.display.Javascript object>"
      ]
     },
     "metadata": {},
     "output_type": "display_data"
    },
    {
     "data": {
      "text/html": [
       "<img src=\"data:image/png;base64,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\" width=\"640\">"
      ],
      "text/plain": [
       "<IPython.core.display.HTML object>"
      ]
     },
     "metadata": {},
     "output_type": "display_data"
    }
   ],
   "source": [
    "plt.plot(zm_full_matrix[0], linewidth=0.3);"
   ]
  },
  {
   "cell_type": "code",
   "execution_count": 72,
   "metadata": {
    "collapsed": true
   },
   "outputs": [],
   "source": [
    "plt.plot(zm_full_matrix[1], linewidth=0.3);"
   ]
  },
  {
   "cell_type": "code",
   "execution_count": 73,
   "metadata": {},
   "outputs": [
    {
     "data": {
      "text/plain": [
       "array([ -3.12614450e-14,   1.32846657e-15,  -4.93690273e-15, ...,\n",
       "         0.00000000e+00,   0.00000000e+00,   0.00000000e+00], dtype=float32)"
      ]
     },
     "execution_count": 73,
     "metadata": {},
     "output_type": "execute_result"
    }
   ],
   "source": [
    "zm_full_matrix[2,:]"
   ]
  },
  {
   "cell_type": "code",
   "execution_count": null,
   "metadata": {
    "collapsed": true
   },
   "outputs": [],
   "source": []
  }
 ],
 "metadata": {
  "kernelspec": {
   "display_name": "Python 3",
   "language": "python",
   "name": "python3"
  },
  "language_info": {
   "codemirror_mode": {
    "name": "ipython",
    "version": 3
   },
   "file_extension": ".py",
   "mimetype": "text/x-python",
   "name": "python",
   "nbconvert_exporter": "python",
   "pygments_lexer": "ipython3",
   "version": "3.6.3"
  }
 },
 "nbformat": 4,
 "nbformat_minor": 2
}
