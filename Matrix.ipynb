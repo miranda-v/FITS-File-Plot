{
 "cells": [
  {
   "cell_type": "code",
   "execution_count": 16,
   "metadata": {
    "collapsed": true
   },
   "outputs": [],
   "source": [
    "import numpy as np\n",
    "import scipy\n",
    "import astropy\n",
    "from astropy.io import fits"
   ]
  },
  {
   "cell_type": "code",
   "execution_count": 19,
   "metadata": {
    "collapsed": true
   },
   "outputs": [],
   "source": [
    "file1=fits.open('/users/mirandaviederman/Downloads/FITS Files/N_data/apStar-r8-2M16452941-0242588.fits')\n",
    "file2=fits.open('/users/mirandaviederman/Downloads/FITS Files/N_data/apStar-r8-2M16462176-0207594.fits')\n",
    "file3=fits.open('/users/mirandaviederman/Downloads/FITS Files/N_data/apStar-r8-2M16462642-0232208.fits')\n",
    "file4=fits.open('/users/mirandaviederman/Downloads/FITS Files/N_data/apStar-r8-2M16465982-0202241.fits')\n",
    "file5=fits.open('/users/mirandaviederman/Downloads/FITS Files/N_data/apStar-r8-2M16470110-0239298.fits')\n",
    "    #'/users/mirandaviederman/Downloads/FITS Files/N_data/apStar-r8-2M16470753-0157022.fits',\n",
    "    #'/users/mirandaviederman/Downloads/FITS Files/N_data/apStar-r8-2M16470791-0135506.fits',\n",
    "    #'/users/mirandaviederman/Downloads/FITS Files/N_data/apStar-r8-2M16471180-0232095.fits',\n",
    "    #'/users/mirandaviederman/Downloads/FITS Files/N_data/apStar-r8-2M16471184-0159574.fits',\n",
    "    #'/users/mirandaviederman/Downloads/FITS Files/N_data/apStar-r8-2M16471235-0153543.fits',\n",
    "file6=fits.open('/users/mirandaviederman/Downloads/FITS Files/S_data/apStar-t9-2M16452941-0242588.fits')\n",
    "file7=fits.open('/users/mirandaviederman/Downloads/FITS Files/S_data/apStar-t9-2M16462176-0207594.fits')\n",
    "file8=fits.open('/users/mirandaviederman/Downloads/FITS Files/S_data/apStar-t9-2M16462642-0232208.fits')\n",
    "file9=fits.open('/users/mirandaviederman/Downloads/FITS Files/S_data/apStar-t9-2M16465982-0202241.fits')\n",
    "file10=fits.open('/users/mirandaviederman/Downloads/FITS Files/S_data/apStar-t9-2M16470110-0239298.fits')"
   ]
  },
  {
   "cell_type": "code",
   "execution_count": 20,
   "metadata": {
    "collapsed": true
   },
   "outputs": [],
   "source": [
    "files=[\n",
    "    file1, file2, file3, file4, file5, file6, file7, file8, file9, file10\n",
    "]"
   ]
  },
  {
   "cell_type": "code",
   "execution_count": 45,
   "metadata": {},
   "outputs": [
    {
     "name": "stdout",
     "output_type": "stream",
     "text": [
      "2.5074e-05\n",
      "2.5074e-05\n",
      "2.5074e-05\n",
      "2.5074e-05\n",
      "2.5074e-05\n",
      "2.5074e-05\n",
      "2.5074e-05\n",
      "2.5074e-05\n",
      "2.5074e-05\n",
      "2.5074e-05\n"
     ]
    }
   ],
   "source": [
    "for file in files:\n",
    "    crval1 = file[1].header['CRVAL1']\n",
    "    cdelt1 = file[1].header['CDELT1']\n",
    "    data = print(crval1*cdelt1)"
   ]
  },
  {
   "cell_type": "code",
   "execution_count": 40,
   "metadata": {},
   "outputs": [
    {
     "data": {
      "text/plain": [
       "float"
      ]
     },
     "execution_count": 40,
     "metadata": {},
     "output_type": "execute_result"
    }
   ],
   "source": [
    "type(file[1].header['CDELT1'])"
   ]
  },
  {
   "cell_type": "code",
   "execution_count": null,
   "metadata": {
    "collapsed": true
   },
   "outputs": [],
   "source": []
  }
 ],
 "metadata": {
  "kernelspec": {
   "display_name": "Python 3",
   "language": "python",
   "name": "python3"
  },
  "language_info": {
   "codemirror_mode": {
    "name": "ipython",
    "version": 3
   },
   "file_extension": ".py",
   "mimetype": "text/x-python",
   "name": "python",
   "nbconvert_exporter": "python",
   "pygments_lexer": "ipython3",
   "version": "3.6.3"
  }
 },
 "nbformat": 4,
 "nbformat_minor": 2
}
