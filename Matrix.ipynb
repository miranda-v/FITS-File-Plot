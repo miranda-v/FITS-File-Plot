{
 "cells": [
  {
   "cell_type": "code",
   "execution_count": 14,
   "metadata": {
    "collapsed": true
   },
   "outputs": [],
   "source": [
    "import matplotlib.pyplot as plt\n",
    "%matplotlib notebook"
   ]
  },
  {
   "cell_type": "code",
   "execution_count": 15,
   "metadata": {
    "collapsed": true
   },
   "outputs": [],
   "source": [
    "import numpy as np\n",
    "import scipy\n",
    "import astropy\n",
    "from astropy.io import fits\n",
    "import glob"
   ]
  },
  {
   "cell_type": "code",
   "execution_count": 17,
   "metadata": {},
   "outputs": [
    {
     "name": "stdout",
     "output_type": "stream",
     "text": [
      "/users/mirandaviederman/Downloads/FITS Files/Matrix/apStar-t9-2M16465982-0202241.fits\n",
      "/users/mirandaviederman/Downloads/FITS Files/Matrix/apStar-t9-2M16471235-0153543.fits\n",
      "/users/mirandaviederman/Downloads/FITS Files/Matrix/apStar-r8-2M16462176-0207594.fits\n",
      "/users/mirandaviederman/Downloads/FITS Files/Matrix/apStar-r8-2M16471235-0153543.fits\n",
      "/users/mirandaviederman/Downloads/FITS Files/Matrix/apStar-t9-2M16462176-0207594.fits\n",
      "/users/mirandaviederman/Downloads/FITS Files/Matrix/apStar-r8-2M16465982-0202241.fits\n",
      "/users/mirandaviederman/Downloads/FITS Files/Matrix/apStar-t9-2M16471180-0232095.fits\n",
      "/users/mirandaviederman/Downloads/FITS Files/Matrix/apStar-r8-2M16470753-0157022.fits\n",
      "/users/mirandaviederman/Downloads/FITS Files/Matrix/apStar-r8-2M16470791-0135506.fits\n",
      "/users/mirandaviederman/Downloads/FITS Files/Matrix/apStar-r8-2M16470110-0239298.fits\n",
      "/users/mirandaviederman/Downloads/FITS Files/Matrix/apStar-t9-2M16462642-0232208.fits\n",
      "/users/mirandaviederman/Downloads/FITS Files/Matrix/apStar-t9-2M16471184-0159574.fits\n",
      "/users/mirandaviederman/Downloads/FITS Files/Matrix/apStar-r8-2M16452941-0242588.fits\n",
      "/users/mirandaviederman/Downloads/FITS Files/Matrix/apStar-t9-2M16470110-0239298.fits\n",
      "/users/mirandaviederman/Downloads/FITS Files/Matrix/apStar-t9-2M16470791-0135506.fits\n",
      "/users/mirandaviederman/Downloads/FITS Files/Matrix/apStar-r8-2M16471184-0159574.fits\n",
      "/users/mirandaviederman/Downloads/FITS Files/Matrix/apStar-t9-2M16452941-0242588.fits\n",
      "/users/mirandaviederman/Downloads/FITS Files/Matrix/apStar-r8-2M16462642-0232208.fits\n",
      "/users/mirandaviederman/Downloads/FITS Files/Matrix/apStar-r8-2M16471180-0232095.fits\n",
      "/users/mirandaviederman/Downloads/FITS Files/Matrix/apStar-t9-2M16470753-0157022.fits\n"
     ]
    }
   ],
   "source": [
    "files = []\n",
    "\n",
    "for file in glob.glob('/users/mirandaviederman/Downloads/FITS Files/Matrix/apStar-*.fits'):\n",
    "    print(file)\n",
    "    files.append(fits.open(file))"
   ]
  },
  {
   "cell_type": "code",
   "execution_count": 5,
   "metadata": {},
   "outputs": [
    {
     "data": {
      "text/plain": [
       "[<astropy.io.fits.hdu.image.PrimaryHDU object at 0x10c607240>, <astropy.io.fits.hdu.image.ImageHDU object at 0x10c737be0>, <astropy.io.fits.hdu.image.ImageHDU object at 0x10c737f98>, <astropy.io.fits.hdu.image.ImageHDU object at 0x10c73fa58>, <astropy.io.fits.hdu.image.ImageHDU object at 0x10c73fe48>, <astropy.io.fits.hdu.image.ImageHDU object at 0x10c744908>, <astropy.io.fits.hdu.image.ImageHDU object at 0x10c744fd0>, <astropy.io.fits.hdu.image.ImageHDU object at 0x10c74b7b8>, <astropy.io.fits.hdu.image.ImageHDU object at 0x10c74bf28>, <astropy.io.fits.hdu.table.BinTableHDU object at 0x10c755b00>]"
      ]
     },
     "execution_count": 5,
     "metadata": {},
     "output_type": "execute_result"
    }
   ],
   "source": [
    "files[0]"
   ]
  },
  {
   "cell_type": "code",
   "execution_count": 6,
   "metadata": {
    "collapsed": true
   },
   "outputs": [],
   "source": [
    "total_matrix = files[0][1].data\n",
    "\n",
    "for k in range(1,len(files)):\n",
    "    total_matrix = np.vstack((total_matrix,files[k][1].data))"
   ]
  },
  {
   "cell_type": "code",
   "execution_count": 7,
   "metadata": {},
   "outputs": [
    {
     "data": {
      "text/plain": [
       "(67, 8575)"
      ]
     },
     "execution_count": 7,
     "metadata": {},
     "output_type": "execute_result"
    }
   ],
   "source": [
    "total_matrix.shape"
   ]
  },
  {
   "cell_type": "code",
   "execution_count": 8,
   "metadata": {},
   "outputs": [],
   "source": [
    "u,s,v = np.linalg.svd(total_matrix)"
   ]
  },
  {
   "cell_type": "code",
   "execution_count": 9,
   "metadata": {},
   "outputs": [
    {
     "name": "stdout",
     "output_type": "stream",
     "text": [
      "2.5074e-05\n",
      "2.5074e-05\n",
      "2.5074e-05\n",
      "2.5074e-05\n",
      "2.5074e-05\n",
      "2.5074e-05\n",
      "2.5074e-05\n",
      "2.5074e-05\n",
      "2.5074e-05\n",
      "2.5074e-05\n",
      "2.5074e-05\n",
      "2.5074e-05\n",
      "2.5074e-05\n",
      "2.5074e-05\n"
     ]
    }
   ],
   "source": [
    "for file in files:\n",
    "    crval1 = file[1].header['CRVAL1']\n",
    "    cdelt1 = file[1].header['CDELT1']\n",
    "    data = print(crval1*cdelt1)"
   ]
  },
  {
   "cell_type": "code",
   "execution_count": 10,
   "metadata": {},
   "outputs": [
    {
     "data": {
      "text/plain": [
       "float"
      ]
     },
     "execution_count": 10,
     "metadata": {},
     "output_type": "execute_result"
    }
   ],
   "source": [
    "type(file[1].header['CDELT1'])"
   ]
  },
  {
   "cell_type": "code",
   "execution_count": 11,
   "metadata": {},
   "outputs": [
    {
     "data": {
      "text/plain": [
       "[[<astropy.io.fits.hdu.image.PrimaryHDU object at 0x10c607240>, <astropy.io.fits.hdu.image.ImageHDU object at 0x10c737be0>, <astropy.io.fits.hdu.image.ImageHDU object at 0x10c737f98>, <astropy.io.fits.hdu.image.ImageHDU object at 0x10c73fa58>, <astropy.io.fits.hdu.image.ImageHDU object at 0x10c73fe48>, <astropy.io.fits.hdu.image.ImageHDU object at 0x10c744908>, <astropy.io.fits.hdu.image.ImageHDU object at 0x10c744fd0>, <astropy.io.fits.hdu.image.ImageHDU object at 0x10c74b7b8>, <astropy.io.fits.hdu.image.ImageHDU object at 0x10c74bf28>, <astropy.io.fits.hdu.table.BinTableHDU object at 0x10c755b00>],\n",
       " [<astropy.io.fits.hdu.image.PrimaryHDU object at 0x10c61e630>, <astropy.io.fits.hdu.image.ImageHDU object at 0x10cdb8e10>, <astropy.io.fits.hdu.image.ImageHDU object at 0x10d647a20>, <astropy.io.fits.hdu.image.ImageHDU object at 0x10d647dd8>, <astropy.io.fits.hdu.image.ImageHDU object at 0x10d64e898>, <astropy.io.fits.hdu.image.ImageHDU object at 0x10d64efd0>, <astropy.io.fits.hdu.image.ImageHDU object at 0x10d651748>, <astropy.io.fits.hdu.image.ImageHDU object at 0x10d651e80>, <astropy.io.fits.hdu.image.ImageHDU object at 0x10d658cf8>, <astropy.io.fits.hdu.table.BinTableHDU object at 0x10d663208>],\n",
       " [<astropy.io.fits.hdu.image.PrimaryHDU object at 0x10c6351d0>, <astropy.io.fits.hdu.image.ImageHDU object at 0x10cde0438>, <astropy.io.fits.hdu.image.ImageHDU object at 0x10d666da0>, <astropy.io.fits.hdu.image.ImageHDU object at 0x10d66a518>, <astropy.io.fits.hdu.image.ImageHDU object at 0x10d66ac50>, <astropy.io.fits.hdu.image.ImageHDU object at 0x10d6713c8>, <astropy.io.fits.hdu.image.ImageHDU object at 0x10d671b00>, <astropy.io.fits.hdu.image.ImageHDU object at 0x10d671ef0>, <astropy.io.fits.hdu.image.ImageHDU object at 0x10d6759e8>, <astropy.io.fits.hdu.table.BinTableHDU object at 0x1147495c0>],\n",
       " [<astropy.io.fits.hdu.image.PrimaryHDU object at 0x10c643d30>, <astropy.io.fits.hdu.image.ImageHDU object at 0x10cde0b70>, <astropy.io.fits.hdu.image.ImageHDU object at 0x11474de10>, <astropy.io.fits.hdu.image.ImageHDU object at 0x1147518d0>, <astropy.io.fits.hdu.image.ImageHDU object at 0x114751f98>, <astropy.io.fits.hdu.image.ImageHDU object at 0x114757780>, <astropy.io.fits.hdu.image.ImageHDU object at 0x114757eb8>, <astropy.io.fits.hdu.image.ImageHDU object at 0x11475c630>, <astropy.io.fits.hdu.image.ImageHDU object at 0x11475cda0>, <astropy.io.fits.hdu.table.BinTableHDU object at 0x114769978>],\n",
       " [<astropy.io.fits.hdu.image.PrimaryHDU object at 0x10c6598d0>, <astropy.io.fits.hdu.image.ImageHDU object at 0x10cde0f60>, <astropy.io.fits.hdu.image.ImageHDU object at 0x114771550>, <astropy.io.fits.hdu.image.ImageHDU object at 0x114771c88>, <astropy.io.fits.hdu.image.ImageHDU object at 0x114777400>, <astropy.io.fits.hdu.image.ImageHDU object at 0x114777b38>, <astropy.io.fits.hdu.image.ImageHDU object at 0x114777f28>, <astropy.io.fits.hdu.image.ImageHDU object at 0x11477b9e8>, <astropy.io.fits.hdu.image.ImageHDU object at 0x114783860>, <astropy.io.fits.hdu.table.BinTableHDU object at 0x114787d30>],\n",
       " [<astropy.io.fits.hdu.image.PrimaryHDU object at 0x10c670470>, <astropy.io.fits.hdu.image.ImageHDU object at 0x10cde4a20>, <astropy.io.fits.hdu.image.ImageHDU object at 0x11478d908>, <astropy.io.fits.hdu.image.ImageHDU object at 0x11478dfd0>, <astropy.io.fits.hdu.image.ImageHDU object at 0x1147957b8>, <astropy.io.fits.hdu.image.ImageHDU object at 0x114795ef0>, <astropy.io.fits.hdu.image.ImageHDU object at 0x114799668>, <astropy.io.fits.hdu.image.ImageHDU object at 0x114799da0>, <astropy.io.fits.hdu.image.ImageHDU object at 0x1147a0c18>, <astropy.io.fits.hdu.table.BinTableHDU object at 0x1147ac128>],\n",
       " [<astropy.io.fits.hdu.image.PrimaryHDU object at 0x10c680fd0>, <astropy.io.fits.hdu.image.ImageHDU object at 0x10cde4e10>, <astropy.io.fits.hdu.image.ImageHDU object at 0x1147afcc0>, <astropy.io.fits.hdu.image.ImageHDU object at 0x1147b5438>, <astropy.io.fits.hdu.image.ImageHDU object at 0x1147b5b70>, <astropy.io.fits.hdu.image.ImageHDU object at 0x1147b5f60>, <astropy.io.fits.hdu.image.ImageHDU object at 0x1147b9a20>, <astropy.io.fits.hdu.image.ImageHDU object at 0x1147b9e10>, <astropy.io.fits.hdu.image.ImageHDU object at 0x1147befd0>, <astropy.io.fits.hdu.table.BinTableHDU object at 0x1147c84e0>],\n",
       " [<astropy.io.fits.hdu.image.PrimaryHDU object at 0x10c696b70>, <astropy.io.fits.hdu.image.ImageHDU object at 0x10cde88d0>, <astropy.io.fits.hdu.image.ImageHDU object at 0x1147cdd30>, <astropy.io.fits.hdu.image.ImageHDU object at 0x1147d17f0>, <astropy.io.fits.hdu.image.ImageHDU object at 0x1147d1f28>, <astropy.io.fits.hdu.image.ImageHDU object at 0x1147d76a0>, <astropy.io.fits.hdu.image.ImageHDU object at 0x1147d7dd8>, <astropy.io.fits.hdu.image.ImageHDU object at 0x1147db550>, <astropy.io.fits.hdu.image.ImageHDU object at 0x1147dbcc0>, <astropy.io.fits.hdu.table.BinTableHDU object at 0x1147e5898>],\n",
       " [<astropy.io.fits.hdu.image.PrimaryHDU object at 0x10c6b37f0>, <astropy.io.fits.hdu.image.ImageHDU object at 0x10cde8f98>, <astropy.io.fits.hdu.image.ImageHDU object at 0x1147f0470>, <astropy.io.fits.hdu.image.ImageHDU object at 0x1147f0ba8>, <astropy.io.fits.hdu.image.ImageHDU object at 0x1147f0f98>, <astropy.io.fits.hdu.image.ImageHDU object at 0x1147f6a58>, <astropy.io.fits.hdu.image.ImageHDU object at 0x1147f6e48>, <astropy.io.fits.hdu.image.ImageHDU object at 0x1147fc908>, <astropy.io.fits.hdu.image.ImageHDU object at 0x114802780>, <astropy.io.fits.hdu.table.BinTableHDU object at 0x114807c50>],\n",
       " [<astropy.io.fits.hdu.image.PrimaryHDU object at 0x10c6d3550>, <astropy.io.fits.hdu.image.ImageHDU object at 0x10d63c780>, <astropy.io.fits.hdu.image.ImageHDU object at 0x11480e828>, <astropy.io.fits.hdu.image.ImageHDU object at 0x11480ef60>, <astropy.io.fits.hdu.image.ImageHDU object at 0x1148156d8>, <astropy.io.fits.hdu.image.ImageHDU object at 0x114815e10>, <astropy.io.fits.hdu.image.ImageHDU object at 0x11481b588>, <astropy.io.fits.hdu.image.ImageHDU object at 0x11481bcc0>, <astropy.io.fits.hdu.image.ImageHDU object at 0x114821b38>, <astropy.io.fits.hdu.table.BinTableHDU object at 0x11482c048>],\n",
       " [<astropy.io.fits.hdu.image.PrimaryHDU object at 0x10c6ee1d0>, <astropy.io.fits.hdu.image.ImageHDU object at 0x10d63ceb8>, <astropy.io.fits.hdu.image.ImageHDU object at 0x11482ebe0>, <astropy.io.fits.hdu.image.ImageHDU object at 0x11482efd0>, <astropy.io.fits.hdu.image.ImageHDU object at 0x114834a90>, <astropy.io.fits.hdu.image.ImageHDU object at 0x114834e80>, <astropy.io.fits.hdu.image.ImageHDU object at 0x114838940>, <astropy.io.fits.hdu.image.ImageHDU object at 0x114838d30>, <astropy.io.fits.hdu.image.ImageHDU object at 0x11483eef0>, <astropy.io.fits.hdu.table.BinTableHDU object at 0x1148fa400>],\n",
       " [<astropy.io.fits.hdu.image.PrimaryHDU object at 0x10c6fe908>, <astropy.io.fits.hdu.image.ImageHDU object at 0x10d6425c0>, <astropy.io.fits.hdu.image.ImageHDU object at 0x1148fff28>, <astropy.io.fits.hdu.image.ImageHDU object at 0x1149035f8>, <astropy.io.fits.hdu.image.ImageHDU object at 0x114903c88>, <astropy.io.fits.hdu.image.ImageHDU object at 0x114909358>, <astropy.io.fits.hdu.image.ImageHDU object at 0x1149099e8>, <astropy.io.fits.hdu.image.ImageHDU object at 0x114909d68>, <astropy.io.fits.hdu.image.ImageHDU object at 0x11490eeb8>, <astropy.io.fits.hdu.table.BinTableHDU object at 0x114919240>],\n",
       " [<astropy.io.fits.hdu.image.PrimaryHDU object at 0x10c713080>, <astropy.io.fits.hdu.image.ImageHDU object at 0x10d642cc0>, <astropy.io.fits.hdu.image.ImageHDU object at 0x11491bc50>, <astropy.io.fits.hdu.image.ImageHDU object at 0x1149213c8>, <astropy.io.fits.hdu.image.ImageHDU object at 0x114921b00>, <astropy.io.fits.hdu.image.ImageHDU object at 0x114921ef0>, <astropy.io.fits.hdu.image.ImageHDU object at 0x1149269b0>, <astropy.io.fits.hdu.image.ImageHDU object at 0x114926da0>, <astropy.io.fits.hdu.image.ImageHDU object at 0x11492bf60>, <astropy.io.fits.hdu.table.BinTableHDU object at 0x114938470>],\n",
       " [<astropy.io.fits.hdu.image.PrimaryHDU object at 0x10c72acc0>, <astropy.io.fits.hdu.image.ImageHDU object at 0x10d647438>, <astropy.io.fits.hdu.image.ImageHDU object at 0x11493bf98>, <astropy.io.fits.hdu.image.ImageHDU object at 0x11493f780>, <astropy.io.fits.hdu.image.ImageHDU object at 0x11493feb8>, <astropy.io.fits.hdu.image.ImageHDU object at 0x114945630>, <astropy.io.fits.hdu.image.ImageHDU object at 0x114945d68>, <astropy.io.fits.hdu.image.ImageHDU object at 0x1149494e0>, <astropy.io.fits.hdu.image.ImageHDU object at 0x114949c50>, <astropy.io.fits.hdu.table.BinTableHDU object at 0x114955828>]]"
      ]
     },
     "execution_count": 11,
     "metadata": {},
     "output_type": "execute_result"
    }
   ],
   "source": [
    "files"
   ]
  },
  {
   "cell_type": "code",
   "execution_count": null,
   "metadata": {
    "collapsed": true
   },
   "outputs": [],
   "source": []
  }
 ],
 "metadata": {
  "kernelspec": {
   "display_name": "Python 3",
   "language": "python",
   "name": "python3"
  },
  "language_info": {
   "codemirror_mode": {
    "name": "ipython",
    "version": 3
   },
   "file_extension": ".py",
   "mimetype": "text/x-python",
   "name": "python",
   "nbconvert_exporter": "python",
   "pygments_lexer": "ipython3",
   "version": "3.6.3"
  }
 },
 "nbformat": 4,
 "nbformat_minor": 2
}
