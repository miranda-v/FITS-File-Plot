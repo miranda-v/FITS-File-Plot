{
 "cells": [
  {
   "cell_type": "code",
   "execution_count": 4,
   "metadata": {
    "collapsed": true
   },
   "outputs": [],
   "source": [
    "import matplotlib.pyplot as plt\n",
    "%matplotlib notebook"
   ]
  },
  {
   "cell_type": "code",
   "execution_count": 5,
   "metadata": {
    "collapsed": true
   },
   "outputs": [],
   "source": [
    "import numpy as np\n",
    "import scipy\n",
    "import astropy\n",
    "from astropy.io import fits\n",
    "import glob"
   ]
  },
  {
   "cell_type": "code",
   "execution_count": 6,
   "metadata": {},
   "outputs": [
    {
     "name": "stdout",
     "output_type": "stream",
     "text": [
      "/users/mirandaviederman/Downloads/FITS Files/Matrix/apStar-t9-2M16465982-0202241.fits\n",
      "/users/mirandaviederman/Downloads/FITS Files/Matrix/apStar-t9-2M16471235-0153543.fits\n",
      "/users/mirandaviederman/Downloads/FITS Files/Matrix/apStar-r8-2M16462176-0207594.fits\n",
      "/users/mirandaviederman/Downloads/FITS Files/Matrix/apStar-r8-2M16471235-0153543.fits\n",
      "/users/mirandaviederman/Downloads/FITS Files/Matrix/apStar-t9-2M16462176-0207594.fits\n",
      "/users/mirandaviederman/Downloads/FITS Files/Matrix/apStar-r8-2M16465982-0202241.fits\n",
      "/users/mirandaviederman/Downloads/FITS Files/Matrix/apStar-t9-2M16471180-0232095.fits\n",
      "/users/mirandaviederman/Downloads/FITS Files/Matrix/apStar-r8-2M16470753-0157022.fits\n",
      "/users/mirandaviederman/Downloads/FITS Files/Matrix/apStar-r8-2M16470791-0135506.fits\n",
      "/users/mirandaviederman/Downloads/FITS Files/Matrix/apStar-r8-2M16470110-0239298.fits\n",
      "/users/mirandaviederman/Downloads/FITS Files/Matrix/apStar-t9-2M16462642-0232208.fits\n",
      "/users/mirandaviederman/Downloads/FITS Files/Matrix/apStar-t9-2M16471184-0159574.fits\n",
      "/users/mirandaviederman/Downloads/FITS Files/Matrix/apStar-r8-2M16452941-0242588.fits\n",
      "/users/mirandaviederman/Downloads/FITS Files/Matrix/apStar-t9-2M16470110-0239298.fits\n",
      "/users/mirandaviederman/Downloads/FITS Files/Matrix/apStar-t9-2M16470791-0135506.fits\n",
      "/users/mirandaviederman/Downloads/FITS Files/Matrix/apStar-r8-2M16471184-0159574.fits\n",
      "/users/mirandaviederman/Downloads/FITS Files/Matrix/apStar-t9-2M16452941-0242588.fits\n",
      "/users/mirandaviederman/Downloads/FITS Files/Matrix/apStar-r8-2M16462642-0232208.fits\n",
      "/users/mirandaviederman/Downloads/FITS Files/Matrix/apStar-r8-2M16471180-0232095.fits\n",
      "/users/mirandaviederman/Downloads/FITS Files/Matrix/apStar-t9-2M16470753-0157022.fits\n"
     ]
    }
   ],
   "source": [
    "files = []\n",
    "\n",
    "for file in glob.glob('/users/mirandaviederman/Downloads/FITS Files/Matrix/apStar-*.fits'):\n",
    "    print(file)\n",
    "    files.append(fits.open(file))"
   ]
  },
  {
   "cell_type": "code",
   "execution_count": 7,
   "metadata": {},
   "outputs": [
    {
     "data": {
      "text/plain": [
       "20"
      ]
     },
     "execution_count": 7,
     "metadata": {},
     "output_type": "execute_result"
    }
   ],
   "source": [
    "len(files)"
   ]
  },
  {
   "cell_type": "code",
   "execution_count": 8,
   "metadata": {},
   "outputs": [
    {
     "data": {
      "text/plain": [
       "['__add__',\n",
       " '__class__',\n",
       " '__contains__',\n",
       " '__delattr__',\n",
       " '__delitem__',\n",
       " '__dict__',\n",
       " '__dir__',\n",
       " '__doc__',\n",
       " '__enter__',\n",
       " '__eq__',\n",
       " '__exit__',\n",
       " '__format__',\n",
       " '__ge__',\n",
       " '__getattribute__',\n",
       " '__getitem__',\n",
       " '__gt__',\n",
       " '__hash__',\n",
       " '__iadd__',\n",
       " '__imul__',\n",
       " '__init__',\n",
       " '__init_subclass__',\n",
       " '__iter__',\n",
       " '__le__',\n",
       " '__len__',\n",
       " '__lt__',\n",
       " '__module__',\n",
       " '__mul__',\n",
       " '__ne__',\n",
       " '__new__',\n",
       " '__reduce__',\n",
       " '__reduce_ex__',\n",
       " '__repr__',\n",
       " '__reversed__',\n",
       " '__rmul__',\n",
       " '__setattr__',\n",
       " '__setitem__',\n",
       " '__sizeof__',\n",
       " '__str__',\n",
       " '__subclasshook__',\n",
       " '__weakref__',\n",
       " '_data',\n",
       " '_file',\n",
       " '_flush_resize',\n",
       " '_flush_update',\n",
       " '_in_read_next_hdu',\n",
       " '_open_kwargs',\n",
       " '_positive_index_of',\n",
       " '_read_all',\n",
       " '_read_next_hdu',\n",
       " '_readfrom',\n",
       " '_resize',\n",
       " '_save_backup',\n",
       " '_truncate',\n",
       " '_try_while_unread_hdus',\n",
       " '_verify',\n",
       " '_wasresized',\n",
       " 'append',\n",
       " 'clear',\n",
       " 'close',\n",
       " 'copy',\n",
       " 'count',\n",
       " 'extend',\n",
       " 'fileinfo',\n",
       " 'filename',\n",
       " 'flush',\n",
       " 'fromfile',\n",
       " 'fromstring',\n",
       " 'index',\n",
       " 'index_of',\n",
       " 'info',\n",
       " 'insert',\n",
       " 'pop',\n",
       " 'readall',\n",
       " 'remove',\n",
       " 'reverse',\n",
       " 'run_option',\n",
       " 'sort',\n",
       " 'update_extend',\n",
       " 'verify',\n",
       " 'writeto']"
      ]
     },
     "execution_count": 8,
     "metadata": {},
     "output_type": "execute_result"
    }
   ],
   "source": [
    "dir(files[0])"
   ]
  },
  {
   "cell_type": "code",
   "execution_count": 9,
   "metadata": {},
   "outputs": [
    {
     "name": "stdout",
     "output_type": "stream",
     "text": [
      "Filename: /users/mirandaviederman/Downloads/FITS Files/Matrix/apStar-t9-2M16465982-0202241.fits\n",
      "No.    Name      Ver    Type      Cards   Dimensions   Format\n",
      "  0  PRIMARY       1 PrimaryHDU     158   ()      \n",
      "  1                1 ImageHDU        13   (8575, 5)   float32   \n",
      "  2                1 ImageHDU        13   (8575, 5)   float32   \n",
      "  3                1 ImageHDU        13   (8575, 5)   int16   \n",
      "  4                1 ImageHDU        13   (8575, 5)   float32   \n",
      "  5                1 ImageHDU        13   (8575, 5)   float32   \n",
      "  6                1 ImageHDU        13   (8575, 5)   float32   \n",
      "  7                1 ImageHDU        13   (8575, 5)   float32   \n",
      "  8                1 ImageHDU        29   (26,)   float64   \n",
      "  9                1 BinTableHDU     90   1R x 33C   [90A, 3I, 36A, 3J, 3I, 3D, 3E, 3E, 3E, 3E, 2I, 2E, 2E, 2E, 2E, E, E, E, E, E, 3E, 3E, 3E, 3E, 3E, 3E, 3E, 2005E, 2005E, 401E, D, D, 401E]   \n"
     ]
    }
   ],
   "source": [
    "files[0].info()"
   ]
  },
  {
   "cell_type": "code",
   "execution_count": 10,
   "metadata": {
    "collapsed": true
   },
   "outputs": [],
   "source": [
    "info = files[0][1].data"
   ]
  },
  {
   "cell_type": "code",
   "execution_count": 11,
   "metadata": {},
   "outputs": [
    {
     "data": {
      "text/plain": [
       "(5, 8575)"
      ]
     },
     "execution_count": 11,
     "metadata": {},
     "output_type": "execute_result"
    }
   ],
   "source": [
    "info.shape"
   ]
  },
  {
   "cell_type": "code",
   "execution_count": 12,
   "metadata": {
    "collapsed": true
   },
   "outputs": [],
   "source": [
    "total_matrix = files[0][1].data\n",
    "\n",
    "for k in range(1,len(files)):\n",
    "    total_matrix = np.vstack((total_matrix,files[k][1].data))"
   ]
  },
  {
   "cell_type": "code",
   "execution_count": 13,
   "metadata": {},
   "outputs": [
    {
     "data": {
      "text/plain": [
       "(81, 8575)"
      ]
     },
     "execution_count": 13,
     "metadata": {},
     "output_type": "execute_result"
    }
   ],
   "source": [
    "total_matrix.shape"
   ]
  },
  {
   "cell_type": "code",
   "execution_count": 14,
   "metadata": {
    "collapsed": true
   },
   "outputs": [],
   "source": [
    "u,s,v = np.linalg.svd(total_matrix, full_matrices = False)"
   ]
  },
  {
   "cell_type": "code",
   "execution_count": 15,
   "metadata": {},
   "outputs": [
    {
     "data": {
      "text/plain": [
       "((81, 81), (81,), (81, 8575))"
      ]
     },
     "execution_count": 15,
     "metadata": {},
     "output_type": "execute_result"
    }
   ],
   "source": [
    "u.shape, s.shape, v.shape"
   ]
  },
  {
   "cell_type": "code",
   "execution_count": 16,
   "metadata": {},
   "outputs": [
    {
     "data": {
      "text/plain": [
       "array([ -1.19812209e-02,  -2.43520271e-02,  -4.61413409e-04,\n",
       "        -1.80826969e-02,   9.38926544e-03,  -1.60857048e-02,\n",
       "         2.07335874e-02,  -7.90849328e-03,   3.69825251e-02,\n",
       "        -4.56866473e-02,   2.32711202e-03,  -3.18534439e-04,\n",
       "         1.44901043e-02,  -1.50109567e-02,   4.38517369e-02,\n",
       "         8.63461848e-03,   2.28298511e-02,  -5.65391667e-02,\n",
       "         1.03939595e-02,  -1.86599586e-02,   1.31241018e-02,\n",
       "        -7.20220432e-03,   6.62177056e-02,  -3.78126418e-03,\n",
       "         1.77779701e-02,  -7.39559084e-02,   1.44247105e-02,\n",
       "        -1.85726248e-02,   4.12333310e-02,  -7.74062704e-03,\n",
       "        -3.82237397e-02,   1.33018959e-02,  -1.56736478e-01,\n",
       "         4.19642925e-02,  -3.61304656e-02,  -2.07072683e-03,\n",
       "        -4.79091108e-02,   2.00672895e-02,   3.11571769e-02,\n",
       "         3.10967006e-02,   9.34770796e-03,   5.77007374e-03,\n",
       "         4.96545769e-02,   2.41829008e-01,  -2.34131977e-01,\n",
       "        -2.38871202e-02,  -1.32254317e-01,   7.44979158e-02,\n",
       "         5.04376814e-02,   1.04282275e-01,   9.77130160e-02,\n",
       "         2.62865245e-01,  -2.67438114e-01,  -3.73599119e-02,\n",
       "        -3.78026366e-02,  -1.83881864e-01,  -1.03363797e-01,\n",
       "         3.98887172e-02,   5.13160489e-02,   1.93318829e-01,\n",
       "         1.83704600e-01,   3.33218187e-01,   9.24565569e-02,\n",
       "        -5.91161728e-01,  -6.98359087e-02,  -1.46268625e-02,\n",
       "        -9.86182988e-02,  -1.19008452e-01,  -4.24032696e-02,\n",
       "        -3.06653734e-02,   5.62984347e-02,   7.82188028e-02,\n",
       "         7.05525354e-02,   1.41601590e-02,   1.98635701e-02,\n",
       "         5.10689453e-04,   1.20814284e-03,   2.39626691e-03,\n",
       "         1.21705933e-03,   2.01525795e-03,   6.02993008e-04], dtype=float32)"
      ]
     },
     "execution_count": 16,
     "metadata": {},
     "output_type": "execute_result"
    }
   ],
   "source": [
    "u[0]"
   ]
  },
  {
   "cell_type": "code",
   "execution_count": 17,
   "metadata": {},
   "outputs": [
    {
     "data": {
      "text/plain": [
       "array([-0.01198003, -0.02363502, -0.00056557, -0.01808478,  0.01355717,\n",
       "       -0.0218466 ,  0.02004333, -0.01030545,  0.04164858, -0.05961462,\n",
       "        0.0096071 ,  0.00955861,  0.03201466, -0.02809969,  0.04034285,\n",
       "        0.01518832,  0.02797076, -0.05359123,  0.01543022, -0.01417542,\n",
       "        0.01842364, -0.01320327,  0.07798466,  0.00314299,  0.03531499,\n",
       "       -0.03131276,  0.00968965, -0.01351455,  0.0353543 ,  0.00802274,\n",
       "       -0.04875888,  0.00252122, -0.12459654,  0.06284586,  0.00466081,\n",
       "        0.0167742 , -0.02784975,  0.02071902, -0.01772398, -0.00232563,\n",
       "        0.10377033,  0.01523124,  0.01159056, -0.07716426,  0.13215283,\n",
       "        0.02678249, -0.05086962, -0.01098073, -0.01596842,  0.04407393,\n",
       "        0.12286763,  0.19135644, -0.20119311, -0.00823895, -0.06593734,\n",
       "       -0.15662101, -0.01763657,  0.01169556, -0.03223423, -0.04479931,\n",
       "       -0.10637462,  0.01557477, -0.08889989,  0.16649537, -0.02491343,\n",
       "        0.17790031, -0.08053398, -0.13581008, -0.37299576, -0.21378683,\n",
       "       -0.4509356 , -0.53062165, -0.09960834,  0.03534326, -0.01836504,\n",
       "        0.00322026, -0.00287863, -0.00154298, -0.00085095,  0.00076245,\n",
       "        0.00098144], dtype=float32)"
      ]
     },
     "execution_count": 17,
     "metadata": {},
     "output_type": "execute_result"
    }
   ],
   "source": [
    "u[1]"
   ]
  },
  {
   "cell_type": "code",
   "execution_count": 18,
   "metadata": {},
   "outputs": [
    {
     "data": {
      "text/plain": [
       "81"
      ]
     },
     "execution_count": 18,
     "metadata": {},
     "output_type": "execute_result"
    }
   ],
   "source": [
    "len(u[0])"
   ]
  },
  {
   "cell_type": "code",
   "execution_count": 19,
   "metadata": {},
   "outputs": [],
   "source": [
    "#for file in files:\n",
    "    #crval1 = file[1].header['CRVAL1']\n",
    "    #cdelt1 = file[1].header['CDELT1']\n",
    "    #data = print(crval1*cdelt1)"
   ]
  },
  {
   "cell_type": "code",
   "execution_count": 20,
   "metadata": {},
   "outputs": [],
   "source": [
    "#type(file[1].header['CDELT1'])"
   ]
  },
  {
   "cell_type": "code",
   "execution_count": 21,
   "metadata": {
    "scrolled": false
   },
   "outputs": [
    {
     "data": {
      "text/plain": [
       "[[<astropy.io.fits.hdu.image.PrimaryHDU object at 0x10d9a2c88>, <astropy.io.fits.hdu.image.ImageHDU object at 0x10db43f28>, <astropy.io.fits.hdu.image.ImageHDU object at 0x10db546d8>, <astropy.io.fits.hdu.image.ImageHDU object at 0x10db54cf8>, <astropy.io.fits.hdu.image.ImageHDU object at 0x10db59470>, <astropy.io.fits.hdu.image.ImageHDU object at 0x10db59ba8>, <astropy.io.fits.hdu.image.ImageHDU object at 0x10db59f98>, <astropy.io.fits.hdu.image.ImageHDU object at 0x10db5ea58>, <astropy.io.fits.hdu.image.ImageHDU object at 0x10db648d0>, <astropy.io.fits.hdu.table.BinTableHDU object at 0x10db68da0>],\n",
       " [<astropy.io.fits.hdu.image.PrimaryHDU object at 0x10d9b8828>, <astropy.io.fits.hdu.image.ImageHDU object at 0x10e1b5dd8>, <astropy.io.fits.hdu.image.ImageHDU object at 0x10f6f6b00>, <astropy.io.fits.hdu.image.ImageHDU object at 0x10f6f6dd8>, <astropy.io.fits.hdu.image.ImageHDU object at 0x10f7017b8>, <astropy.io.fits.hdu.image.ImageHDU object at 0x10f701e48>, <astropy.io.fits.hdu.image.ImageHDU object at 0x10f705518>, <astropy.io.fits.hdu.image.ImageHDU object at 0x10f705ba8>, <astropy.io.fits.hdu.image.ImageHDU object at 0x10f70b9e8>, <astropy.io.fits.hdu.table.BinTableHDU object at 0x10f714fd0>],\n",
       " [<astropy.io.fits.hdu.image.PrimaryHDU object at 0x10d9c8f60>, <astropy.io.fits.hdu.image.ImageHDU object at 0x10e1ed7b8>, <astropy.io.fits.hdu.image.ImageHDU object at 0x10f715780>, <astropy.io.fits.hdu.image.ImageHDU object at 0x10f715eb8>, <astropy.io.fits.hdu.image.ImageHDU object at 0x10f71d630>, <astropy.io.fits.hdu.image.ImageHDU object at 0x10f71dd68>, <astropy.io.fits.hdu.image.ImageHDU object at 0x10f7224e0>, <astropy.io.fits.hdu.image.ImageHDU object at 0x10f722c18>, <astropy.io.fits.hdu.image.ImageHDU object at 0x10f728a90>, <astropy.io.fits.hdu.table.BinTableHDU object at 0x109265f60>],\n",
       " [<astropy.io.fits.hdu.image.PrimaryHDU object at 0x10d9dfb00>, <astropy.io.fits.hdu.image.ImageHDU object at 0x10e1edef0>, <astropy.io.fits.hdu.image.ImageHDU object at 0x10926db38>, <astropy.io.fits.hdu.image.ImageHDU object at 0x10926df28>, <astropy.io.fits.hdu.image.ImageHDU object at 0x1092739e8>, <astropy.io.fits.hdu.image.ImageHDU object at 0x109273dd8>, <astropy.io.fits.hdu.image.ImageHDU object at 0x109278898>, <astropy.io.fits.hdu.image.ImageHDU object at 0x109278fd0>, <astropy.io.fits.hdu.image.ImageHDU object at 0x10927fe48>, <astropy.io.fits.hdu.table.BinTableHDU object at 0x109288358>],\n",
       " [<astropy.io.fits.hdu.image.PrimaryHDU object at 0x10d9f6ac8>, <astropy.io.fits.hdu.image.ImageHDU object at 0x10e1f4668>, <astropy.io.fits.hdu.image.ImageHDU object at 0x10928def0>, <astropy.io.fits.hdu.image.ImageHDU object at 0x109292668>, <astropy.io.fits.hdu.image.ImageHDU object at 0x109292da0>, <astropy.io.fits.hdu.image.ImageHDU object at 0x109299518>, <astropy.io.fits.hdu.image.ImageHDU object at 0x109299c50>, <astropy.io.fits.hdu.image.ImageHDU object at 0x10929c3c8>, <astropy.io.fits.hdu.image.ImageHDU object at 0x10929cb38>, <astropy.io.fits.hdu.table.BinTableHDU object at 0x1092a7710>],\n",
       " [<astropy.io.fits.hdu.image.PrimaryHDU object at 0x10da09a90>, <astropy.io.fits.hdu.image.ImageHDU object at 0x10e1f4da0>, <astropy.io.fits.hdu.image.ImageHDU object at 0x1092adf60>, <astropy.io.fits.hdu.image.ImageHDU object at 0x1092b0a20>, <astropy.io.fits.hdu.image.ImageHDU object at 0x1092b0e10>, <astropy.io.fits.hdu.image.ImageHDU object at 0x1092b58d0>, <astropy.io.fits.hdu.image.ImageHDU object at 0x1092b5f98>, <astropy.io.fits.hdu.image.ImageHDU object at 0x1092ba780>, <astropy.io.fits.hdu.image.ImageHDU object at 0x1092baef0>, <astropy.io.fits.hdu.table.BinTableHDU object at 0x1092c7ac8>],\n",
       " [<astropy.io.fits.hdu.image.PrimaryHDU object at 0x10da21a58>, <astropy.io.fits.hdu.image.ImageHDU object at 0x10e1f9518>, <astropy.io.fits.hdu.image.ImageHDU object at 0x1092ce6a0>, <astropy.io.fits.hdu.image.ImageHDU object at 0x1092cedd8>, <astropy.io.fits.hdu.image.ImageHDU object at 0x1092d3550>, <astropy.io.fits.hdu.image.ImageHDU object at 0x1092d3c88>, <astropy.io.fits.hdu.image.ImageHDU object at 0x1092d8400>, <astropy.io.fits.hdu.image.ImageHDU object at 0x1092d8b38>, <astropy.io.fits.hdu.image.ImageHDU object at 0x1092df9b0>, <astropy.io.fits.hdu.table.BinTableHDU object at 0x11c2e5e80>],\n",
       " [<astropy.io.fits.hdu.image.PrimaryHDU object at 0x10da37a20>, <astropy.io.fits.hdu.image.ImageHDU object at 0x10e1f9c50>, <astropy.io.fits.hdu.image.ImageHDU object at 0x11c2eca58>, <astropy.io.fits.hdu.image.ImageHDU object at 0x11c2ece48>, <astropy.io.fits.hdu.image.ImageHDU object at 0x11c2f3908>, <astropy.io.fits.hdu.image.ImageHDU object at 0x11c2f3fd0>, <astropy.io.fits.hdu.image.ImageHDU object at 0x11c2f97b8>, <astropy.io.fits.hdu.image.ImageHDU object at 0x11c2f9ef0>, <astropy.io.fits.hdu.image.ImageHDU object at 0x11c2fdd68>, <astropy.io.fits.hdu.table.BinTableHDU object at 0x11c309278>],\n",
       " [<astropy.io.fits.hdu.image.PrimaryHDU object at 0x10da4e5c0>, <astropy.io.fits.hdu.image.ImageHDU object at 0x10e1ff3c8>, <astropy.io.fits.hdu.image.ImageHDU object at 0x11c30ce10>, <astropy.io.fits.hdu.image.ImageHDU object at 0x11c312588>, <astropy.io.fits.hdu.image.ImageHDU object at 0x11c312cc0>, <astropy.io.fits.hdu.image.ImageHDU object at 0x11c318438>, <astropy.io.fits.hdu.image.ImageHDU object at 0x11c318b70>, <astropy.io.fits.hdu.image.ImageHDU object at 0x11c318f60>, <astropy.io.fits.hdu.image.ImageHDU object at 0x11c31ca58>, <astropy.io.fits.hdu.table.BinTableHDU object at 0x10dc00630>],\n",
       " [<astropy.io.fits.hdu.image.PrimaryHDU object at 0x10da63160>, <astropy.io.fits.hdu.image.ImageHDU object at 0x10e1ffb00>, <astropy.io.fits.hdu.image.ImageHDU object at 0x10dc05e80>, <astropy.io.fits.hdu.image.ImageHDU object at 0x10dc09940>, <astropy.io.fits.hdu.image.ImageHDU object at 0x10dc09d30>, <astropy.io.fits.hdu.image.ImageHDU object at 0x10dc0f7f0>, <astropy.io.fits.hdu.image.ImageHDU object at 0x10dc0ff28>, <astropy.io.fits.hdu.image.ImageHDU object at 0x10dc136a0>, <astropy.io.fits.hdu.image.ImageHDU object at 0x10dc13e10>, <astropy.io.fits.hdu.table.BinTableHDU object at 0x10dc209e8>],\n",
       " [<astropy.io.fits.hdu.image.PrimaryHDU object at 0x10da73cc0>, <astropy.io.fits.hdu.image.ImageHDU object at 0x10e1ffef0>, <astropy.io.fits.hdu.image.ImageHDU object at 0x10dc285c0>, <astropy.io.fits.hdu.image.ImageHDU object at 0x10dc28cf8>, <astropy.io.fits.hdu.image.ImageHDU object at 0x10dc2f470>, <astropy.io.fits.hdu.image.ImageHDU object at 0x10dc2fba8>, <astropy.io.fits.hdu.image.ImageHDU object at 0x10dc2ff98>, <astropy.io.fits.hdu.image.ImageHDU object at 0x10dc33a58>, <astropy.io.fits.hdu.image.ImageHDU object at 0x10dc398d0>, <astropy.io.fits.hdu.table.BinTableHDU object at 0x10dc3dda0>],\n",
       " [<astropy.io.fits.hdu.image.PrimaryHDU object at 0x10da8a438>, <astropy.io.fits.hdu.image.ImageHDU object at 0x10e204940>, <astropy.io.fits.hdu.image.ImageHDU object at 0x10dc46908>, <astropy.io.fits.hdu.image.ImageHDU object at 0x10dc46f98>, <astropy.io.fits.hdu.image.ImageHDU object at 0x10dc4b668>, <astropy.io.fits.hdu.image.ImageHDU object at 0x10dc4bcf8>, <astropy.io.fits.hdu.image.ImageHDU object at 0x10dc513c8>, <astropy.io.fits.hdu.image.ImageHDU object at 0x10dc51a58>, <astropy.io.fits.hdu.image.ImageHDU object at 0x10dc57898>, <astropy.io.fits.hdu.table.BinTableHDU object at 0x10dc5cbe0>],\n",
       " [<astropy.io.fits.hdu.image.PrimaryHDU object at 0x10daa1c50>, <astropy.io.fits.hdu.image.ImageHDU object at 0x10e204fd0>, <astropy.io.fits.hdu.image.ImageHDU object at 0x10dc08630>, <astropy.io.fits.hdu.image.ImageHDU object at 0x10dc08d68>, <astropy.io.fits.hdu.image.ImageHDU object at 0x10dc694e0>, <astropy.io.fits.hdu.image.ImageHDU object at 0x10dc69c18>, <astropy.io.fits.hdu.image.ImageHDU object at 0x10dc6f390>, <astropy.io.fits.hdu.image.ImageHDU object at 0x10dc6fac8>, <astropy.io.fits.hdu.image.ImageHDU object at 0x10dc75940>, <astropy.io.fits.hdu.table.BinTableHDU object at 0x11c323e10>],\n",
       " [<astropy.io.fits.hdu.image.PrimaryHDU object at 0x10dabacf8>, <astropy.io.fits.hdu.image.ImageHDU object at 0x10e2097b8>, <astropy.io.fits.hdu.image.ImageHDU object at 0x11c32b9e8>, <astropy.io.fits.hdu.image.ImageHDU object at 0x11c32bdd8>, <astropy.io.fits.hdu.image.ImageHDU object at 0x11c32f898>, <astropy.io.fits.hdu.image.ImageHDU object at 0x11c32ffd0>, <astropy.io.fits.hdu.image.ImageHDU object at 0x11c336748>, <astropy.io.fits.hdu.image.ImageHDU object at 0x11c336e80>, <astropy.io.fits.hdu.image.ImageHDU object at 0x11c33bcf8>, <astropy.io.fits.hdu.table.BinTableHDU object at 0x11c347208>],\n",
       " [<astropy.io.fits.hdu.image.PrimaryHDU object at 0x10dacd898>, <astropy.io.fits.hdu.image.ImageHDU object at 0x10e209e80>, <astropy.io.fits.hdu.image.ImageHDU object at 0x11c34bd30>, <astropy.io.fits.hdu.image.ImageHDU object at 0x11c34e400>, <astropy.io.fits.hdu.image.ImageHDU object at 0x11c34ea90>, <astropy.io.fits.hdu.image.ImageHDU object at 0x11c34ee10>, <astropy.io.fits.hdu.image.ImageHDU object at 0x11c3547f0>, <astropy.io.fits.hdu.image.ImageHDU object at 0x11c354e80>, <astropy.io.fits.hdu.image.ImageHDU object at 0x11c35acc0>, <astropy.io.fits.hdu.table.BinTableHDU object at 0x11c365048>],\n",
       " [<astropy.io.fits.hdu.image.PrimaryHDU object at 0x10dadefd0>, <astropy.io.fits.hdu.image.ImageHDU object at 0x10f6ed5c0>, <astropy.io.fits.hdu.image.ImageHDU object at 0x11c366a58>, <astropy.io.fits.hdu.image.ImageHDU object at 0x11c366e48>, <astropy.io.fits.hdu.image.ImageHDU object at 0x11c36e908>, <astropy.io.fits.hdu.image.ImageHDU object at 0x11c36efd0>, <astropy.io.fits.hdu.image.ImageHDU object at 0x11c3727b8>, <astropy.io.fits.hdu.image.ImageHDU object at 0x11c372ef0>, <astropy.io.fits.hdu.image.ImageHDU object at 0x11c378d68>, <astropy.io.fits.hdu.table.BinTableHDU object at 0x11c384278>],\n",
       " [<astropy.io.fits.hdu.image.PrimaryHDU object at 0x10daf5f98>, <astropy.io.fits.hdu.image.ImageHDU object at 0x10f6edcf8>, <astropy.io.fits.hdu.image.ImageHDU object at 0x11c388e10>, <astropy.io.fits.hdu.image.ImageHDU object at 0x11c38e588>, <astropy.io.fits.hdu.image.ImageHDU object at 0x11c38ecc0>, <astropy.io.fits.hdu.image.ImageHDU object at 0x11c394438>, <astropy.io.fits.hdu.image.ImageHDU object at 0x11c394b70>, <astropy.io.fits.hdu.image.ImageHDU object at 0x11c394f60>, <astropy.io.fits.hdu.image.ImageHDU object at 0x11c399a58>, <astropy.io.fits.hdu.table.BinTableHDU object at 0x11c3a2630>],\n",
       " [<astropy.io.fits.hdu.image.PrimaryHDU object at 0x10db0bf60>, <astropy.io.fits.hdu.image.ImageHDU object at 0x10f6f1470>, <astropy.io.fits.hdu.image.ImageHDU object at 0x11c3a8e80>, <astropy.io.fits.hdu.image.ImageHDU object at 0x11c3ac940>, <astropy.io.fits.hdu.image.ImageHDU object at 0x11c3acd30>, <astropy.io.fits.hdu.image.ImageHDU object at 0x11c3b07f0>, <astropy.io.fits.hdu.image.ImageHDU object at 0x11c3b0f28>, <astropy.io.fits.hdu.image.ImageHDU object at 0x11c3b46a0>, <astropy.io.fits.hdu.image.ImageHDU object at 0x11c3b4e10>, <astropy.io.fits.hdu.table.BinTableHDU object at 0x11c3c09e8>],\n",
       " [<astropy.io.fits.hdu.image.PrimaryHDU object at 0x10db27be0>, <astropy.io.fits.hdu.image.ImageHDU object at 0x10f6f1ba8>, <astropy.io.fits.hdu.image.ImageHDU object at 0x11c3c95c0>, <astropy.io.fits.hdu.image.ImageHDU object at 0x11c3c9cf8>, <astropy.io.fits.hdu.image.ImageHDU object at 0x11c3cf470>, <astropy.io.fits.hdu.image.ImageHDU object at 0x11c3cfba8>, <astropy.io.fits.hdu.image.ImageHDU object at 0x11c3cff98>, <astropy.io.fits.hdu.image.ImageHDU object at 0x11c3d4a58>, <astropy.io.fits.hdu.image.ImageHDU object at 0x11c3d98d0>, <astropy.io.fits.hdu.table.BinTableHDU object at 0x11c3deda0>],\n",
       " [<astropy.io.fits.hdu.image.PrimaryHDU object at 0x10db42438>, <astropy.io.fits.hdu.image.ImageHDU object at 0x10f6f1f60>, <astropy.io.fits.hdu.image.ImageHDU object at 0x11c3e5908>, <astropy.io.fits.hdu.image.ImageHDU object at 0x11c3e5f98>, <astropy.io.fits.hdu.image.ImageHDU object at 0x11c3ec668>, <astropy.io.fits.hdu.image.ImageHDU object at 0x11c3eccf8>, <astropy.io.fits.hdu.image.ImageHDU object at 0x11c3f33c8>, <astropy.io.fits.hdu.image.ImageHDU object at 0x11c3f3a58>, <astropy.io.fits.hdu.image.ImageHDU object at 0x11c3fa898>, <astropy.io.fits.hdu.table.BinTableHDU object at 0x11c3febe0>]]"
      ]
     },
     "execution_count": 21,
     "metadata": {},
     "output_type": "execute_result"
    }
   ],
   "source": [
    "files"
   ]
  },
  {
   "cell_type": "code",
   "execution_count": null,
   "metadata": {
    "collapsed": true
   },
   "outputs": [],
   "source": []
  }
 ],
 "metadata": {
  "kernelspec": {
   "display_name": "Python 3",
   "language": "python",
   "name": "python3"
  },
  "language_info": {
   "codemirror_mode": {
    "name": "ipython",
    "version": 3
   },
   "file_extension": ".py",
   "mimetype": "text/x-python",
   "name": "python",
   "nbconvert_exporter": "python",
   "pygments_lexer": "ipython3",
   "version": "3.6.3"
  }
 },
 "nbformat": 4,
 "nbformat_minor": 2
}
