{
 "cells": [
  {
   "cell_type": "code",
   "execution_count": 48,
   "metadata": {
    "collapsed": true
   },
   "outputs": [],
   "source": [
    "import numpy as np\n",
    "import astropy\n",
    "from astropy.io import fits\n",
    "import matplotlib\n",
    "import matplotlib.pyplot as plt"
   ]
  },
  {
   "cell_type": "code",
   "execution_count": 49,
   "metadata": {
    "collapsed": true
   },
   "outputs": [],
   "source": [
    "#FITS 2 = '/users/mirandaviederman/Downloads/FITS Files/apStar-r8-2M13072813+1653414.fits'"
   ]
  },
  {
   "cell_type": "code",
   "execution_count": 50,
   "metadata": {},
   "outputs": [
    {
     "name": "stdout",
     "output_type": "stream",
     "text": [
      "Filename: /users/mirandaviederman/Downloads/FITS Files/apStar-r8-2M13072813+1653414.fits\n",
      "No.    Name      Ver    Type      Cards   Dimensions   Format\n",
      "  0  PRIMARY       1 PrimaryHDU     177   ()      \n",
      "  1                1 ImageHDU        13   (8575, 6)   float32   \n",
      "  2                1 ImageHDU        13   (8575, 6)   float32   \n",
      "  3                1 ImageHDU        13   (8575, 6)   int16   \n",
      "  4                1 ImageHDU        13   (8575, 6)   float32   \n",
      "  5                1 ImageHDU        13   (8575, 6)   float32   \n",
      "  6                1 ImageHDU        13   (8575, 6)   float32   \n",
      "  7                1 ImageHDU        13   (8575, 6)   float32   \n",
      "  8                1 ImageHDU        29   (26,)   float64   \n",
      "  9                1 BinTableHDU     90   1R x 33C   [120A, 4I, 16A, 4J, 4I, 4D, 4E, 4E, 4E, 4E, 2I, 2E, 2E, 2E, 2E, E, E, E, E, E, 4E, 4E, 4E, 4E, 4E, 4E, 4E, 2406E, 2406E, 401E, D, D, 401E]   \n"
     ]
    },
    {
     "data": {
      "text/plain": [
       "XTENSION= 'IMAGE   '           / IMAGE extension                                \n",
       "BITPIX  =                  -32 / Number of bits per data pixel                  \n",
       "NAXIS   =                    2 / Number of data axes                            \n",
       "NAXIS1  =                 8575 /                                                \n",
       "NAXIS2  =                    6 /                                                \n",
       "PCOUNT  =                    0 / No Group Parameters                            \n",
       "GCOUNT  =                    1 / One Data Group                                 \n",
       "CRVAL1  =        4.17900000000 /                                                \n",
       "CDELT1  =    6.00000000000E-06 /                                                \n",
       "CRPIX1  =                    1 /                                                \n",
       "CTYPE1  = 'LOG-LINEAR'         /                                                \n",
       "DC-FLAG =                    1 /                                                \n",
       "BUNIT   = 'Flux (10^-17 erg/s/cm^2/Ang)' /                                      "
      ]
     },
     "execution_count": 50,
     "metadata": {},
     "output_type": "execute_result"
    }
   ],
   "source": [
    "hdu2 = fits.open('/users/mirandaviederman/Downloads/FITS Files/apStar-r8-2M13072813+1653414.fits')\n",
    "hdu2.info()\n",
    "hdu2[1].header"
   ]
  },
  {
   "cell_type": "code",
   "execution_count": 78,
   "metadata": {},
   "outputs": [
    {
     "data": {
      "text/plain": [
       "5"
      ]
     },
     "execution_count": 78,
     "metadata": {},
     "output_type": "execute_result"
    }
   ],
   "source": [
    "fluxes = np.array(hdu2[1].data)\n",
    "Nexp, Npix = fluxes.shape"
   ]
  },
  {
   "cell_type": "code",
   "execution_count": 79,
   "metadata": {},
   "outputs": [],
   "source": [
    "fluxes = np.array(hdu2[1].data)\n",
    "Nexp, Npix = fluxes.shape\n",
    "wavelengths = 10. ** (hdu2[0].header[\"CRVAL1\"] + hdu2[0].header[\"CDELT1\"] * np.arange(Npix))\n",
    "plt.clf()\n",
    "for exp in range(Nexp):\n",
    "    plt.step(wavelengths, fluxes[exp], label = 'APOGEE ID 2M13072813+1653414.fits', linewidth = .5)\n",
    "plt.ylabel(r'Flux [$10^{-17}$ erg/cm$^2$/s/Å]')\n",
    "plt.xlabel(\"Wavelength in Ångstroms\")\n",
    "plt.legend();"
   ]
  },
  {
   "cell_type": "code",
   "execution_count": null,
   "metadata": {
    "collapsed": true
   },
   "outputs": [],
   "source": []
  }
 ],
 "metadata": {
  "kernelspec": {
   "display_name": "Python 3",
   "language": "python",
   "name": "python3"
  },
  "language_info": {
   "codemirror_mode": {
    "name": "ipython",
    "version": 3
   },
   "file_extension": ".py",
   "mimetype": "text/x-python",
   "name": "python",
   "nbconvert_exporter": "python",
   "pygments_lexer": "ipython3",
   "version": "3.6.3"
  }
 },
 "nbformat": 4,
 "nbformat_minor": 2
}
